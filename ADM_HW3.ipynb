{
  "cells": [
    {
      "cell_type": "markdown",
      "metadata": {},
      "source": [
        "Importing my functions.py file"
      ]
    },
    {
      "cell_type": "code",
      "execution_count": 1,
      "metadata": {
        "id": "ZlhnuCyBdrMv"
      },
      "outputs": [
        {
          "name": "stderr",
          "output_type": "stream",
          "text": [
            "[nltk_data] Downloading package punkt to /Users/saifdev/nltk_data...\n",
            "[nltk_data]   Package punkt is already up-to-date!\n",
            "[nltk_data] Downloading package stopwords to\n",
            "[nltk_data]     /Users/saifdev/nltk_data...\n",
            "[nltk_data]   Package stopwords is already up-to-date!\n"
          ]
        }
      ],
      "source": [
        "from functions import *"
      ]
    },
    {
      "cell_type": "markdown",
      "metadata": {},
      "source": [
        "First, I will load all (approximately) 6000 tsv files into one final dataset."
      ]
    },
    {
      "cell_type": "code",
      "execution_count": 2,
      "metadata": {
        "id": "w3Wb5xc1dr0d"
      },
      "outputs": [],
      "source": [
        "directory = \"/Users/saifdev/Desktop/files_tsv\"\n",
        "output_file = \"/Users/saifdev/Desktop/grande.tsv\"\n",
        "dataset = create_store_tsv(directory, output_file)"
      ]
    },
    {
      "cell_type": "code",
      "execution_count": 3,
      "metadata": {
        "colab": {
          "base_uri": "https://localhost:8080/",
          "height": 573
        },
        "id": "qJhtSv_EhO2P",
        "outputId": "9efa0854-9552-4f44-9971-5b2512969e0b"
      },
      "outputs": [
        {
          "data": {
            "text/html": [
              "<div>\n",
              "<style scoped>\n",
              "    .dataframe tbody tr th:only-of-type {\n",
              "        vertical-align: middle;\n",
              "    }\n",
              "\n",
              "    .dataframe tbody tr th {\n",
              "        vertical-align: top;\n",
              "    }\n",
              "\n",
              "    .dataframe thead th {\n",
              "        text-align: right;\n",
              "    }\n",
              "</style>\n",
              "<table border=\"1\" class=\"dataframe\">\n",
              "  <thead>\n",
              "    <tr style=\"text-align: right;\">\n",
              "      <th></th>\n",
              "      <th>courseName</th>\n",
              "      <th>universityName</th>\n",
              "      <th>facultyName</th>\n",
              "      <th>isItFullTime</th>\n",
              "      <th>description</th>\n",
              "      <th>startDate</th>\n",
              "      <th>fees</th>\n",
              "      <th>modality</th>\n",
              "      <th>duration</th>\n",
              "      <th>city</th>\n",
              "      <th>country</th>\n",
              "      <th>administration</th>\n",
              "    </tr>\n",
              "  </thead>\n",
              "  <tbody>\n",
              "    <tr>\n",
              "      <th>0</th>\n",
              "      <td>Masters of Science in Business, Supply Chain A...</td>\n",
              "      <td>Oregon State University</td>\n",
              "      <td>School of Business</td>\n",
              "      <td>Full time&amp;Part time</td>\n",
              "      <td>Master of Science in Business (MSB)Our Master ...</td>\n",
              "      <td>See Course</td>\n",
              "      <td>You can find more information here:Please see ...</td>\n",
              "      <td>MSc</td>\n",
              "      <td>12 months</td>\n",
              "      <td>Corvallis</td>\n",
              "      <td>USA</td>\n",
              "      <td>Online</td>\n",
              "    </tr>\n",
              "    <tr>\n",
              "      <th>1</th>\n",
              "      <td>Immersive Technology (with Advanced Practice) MSc</td>\n",
              "      <td>Teesside University</td>\n",
              "      <td>School of Computing, Engineering &amp; Design Tech...</td>\n",
              "      <td>Full time</td>\n",
              "      <td>Immersive technologies is a rapidly growing se...</td>\n",
              "      <td>January, September</td>\n",
              "      <td>Please see the university website for further ...</td>\n",
              "      <td>MSc</td>\n",
              "      <td>2 Years</td>\n",
              "      <td>Middlesbrough</td>\n",
              "      <td>United Kingdom</td>\n",
              "      <td>On Campus</td>\n",
              "    </tr>\n",
              "    <tr>\n",
              "      <th>2</th>\n",
              "      <td>Clinical Neuropsychology - MSc(MedSci)/PgDip</td>\n",
              "      <td>University of Glasgow</td>\n",
              "      <td>College of Medical, Veterinary &amp; Life Sciences</td>\n",
              "      <td>Full time&amp;Part time</td>\n",
              "      <td>Designed for those who are eligible for regist...</td>\n",
              "      <td>September</td>\n",
              "      <td>Please see the university website for further ...</td>\n",
              "      <td>PGDip,MSc</td>\n",
              "      <td>See Programme Description</td>\n",
              "      <td>Glasgow</td>\n",
              "      <td>United Kingdom</td>\n",
              "      <td>On Campus</td>\n",
              "    </tr>\n",
              "    <tr>\n",
              "      <th>3</th>\n",
              "      <td>Demography and Social Inequality DDM</td>\n",
              "      <td>University of Groningen</td>\n",
              "      <td>Spatial Sciences</td>\n",
              "      <td>Full time</td>\n",
              "      <td>What impact did the recent economic crisis hav...</td>\n",
              "      <td>September</td>\n",
              "      <td>Please see the university website for further ...</td>\n",
              "      <td>MSc</td>\n",
              "      <td>2 years full time</td>\n",
              "      <td>Groningen</td>\n",
              "      <td>Netherlands</td>\n",
              "      <td>On Campus</td>\n",
              "    </tr>\n",
              "    <tr>\n",
              "      <th>4</th>\n",
              "      <td>MSc Financial Mathematics</td>\n",
              "      <td>University College Dublin</td>\n",
              "      <td>UCD School of Mathematics and Statistics</td>\n",
              "      <td>Full time&amp;Part time</td>\n",
              "      <td>Graduate Taught (level 9 nfq, credits 90)The M...</td>\n",
              "      <td>September</td>\n",
              "      <td>Please see the university website for further ...</td>\n",
              "      <td>MSc</td>\n",
              "      <td>1 year full time - 2 years part time</td>\n",
              "      <td>Dublin</td>\n",
              "      <td>Ireland</td>\n",
              "      <td>On Campus</td>\n",
              "    </tr>\n",
              "  </tbody>\n",
              "</table>\n",
              "</div>"
            ],
            "text/plain": [
              "                                          courseName  \\\n",
              "0  Masters of Science in Business, Supply Chain A...   \n",
              "1  Immersive Technology (with Advanced Practice) MSc   \n",
              "2       Clinical Neuropsychology - MSc(MedSci)/PgDip   \n",
              "3               Demography and Social Inequality DDM   \n",
              "4                          MSc Financial Mathematics   \n",
              "\n",
              "              universityName  \\\n",
              "0    Oregon State University   \n",
              "1        Teesside University   \n",
              "2      University of Glasgow   \n",
              "3    University of Groningen   \n",
              "4  University College Dublin   \n",
              "\n",
              "                                         facultyName         isItFullTime  \\\n",
              "0                                 School of Business  Full time&Part time   \n",
              "1  School of Computing, Engineering & Design Tech...            Full time   \n",
              "2     College of Medical, Veterinary & Life Sciences  Full time&Part time   \n",
              "3                                   Spatial Sciences            Full time   \n",
              "4           UCD School of Mathematics and Statistics  Full time&Part time   \n",
              "\n",
              "                                         description           startDate  \\\n",
              "0  Master of Science in Business (MSB)Our Master ...          See Course   \n",
              "1  Immersive technologies is a rapidly growing se...  January, September   \n",
              "2  Designed for those who are eligible for regist...           September   \n",
              "3  What impact did the recent economic crisis hav...           September   \n",
              "4  Graduate Taught (level 9 nfq, credits 90)The M...           September   \n",
              "\n",
              "                                                fees   modality  \\\n",
              "0  You can find more information here:Please see ...        MSc   \n",
              "1  Please see the university website for further ...        MSc   \n",
              "2  Please see the university website for further ...  PGDip,MSc   \n",
              "3  Please see the university website for further ...        MSc   \n",
              "4  Please see the university website for further ...        MSc   \n",
              "\n",
              "                               duration           city         country  \\\n",
              "0                             12 months      Corvallis             USA   \n",
              "1                               2 Years  Middlesbrough  United Kingdom   \n",
              "2             See Programme Description        Glasgow  United Kingdom   \n",
              "3                     2 years full time      Groningen     Netherlands   \n",
              "4  1 year full time - 2 years part time         Dublin         Ireland   \n",
              "\n",
              "  administration  \n",
              "0         Online  \n",
              "1      On Campus  \n",
              "2      On Campus  \n",
              "3      On Campus  \n",
              "4      On Campus  "
            ]
          },
          "execution_count": 3,
          "metadata": {},
          "output_type": "execute_result"
        }
      ],
      "source": [
        "dataset.head(5)"
      ]
    },
    {
      "cell_type": "markdown",
      "metadata": {},
      "source": [
        "Now, I will make a copy to protect the original dataset"
      ]
    },
    {
      "cell_type": "code",
      "execution_count": 4,
      "metadata": {
        "colab": {
          "base_uri": "https://localhost:8080/",
          "height": 372
        },
        "id": "3P3GSMQgiG2Z",
        "outputId": "174f2c89-120a-4704-9545-5cf3ac054955"
      },
      "outputs": [
        {
          "data": {
            "text/html": [
              "<div>\n",
              "<style scoped>\n",
              "    .dataframe tbody tr th:only-of-type {\n",
              "        vertical-align: middle;\n",
              "    }\n",
              "\n",
              "    .dataframe tbody tr th {\n",
              "        vertical-align: top;\n",
              "    }\n",
              "\n",
              "    .dataframe thead th {\n",
              "        text-align: right;\n",
              "    }\n",
              "</style>\n",
              "<table border=\"1\" class=\"dataframe\">\n",
              "  <thead>\n",
              "    <tr style=\"text-align: right;\">\n",
              "      <th></th>\n",
              "      <th>courseName</th>\n",
              "      <th>universityName</th>\n",
              "      <th>facultyName</th>\n",
              "      <th>isItFullTime</th>\n",
              "      <th>description</th>\n",
              "      <th>startDate</th>\n",
              "      <th>fees</th>\n",
              "      <th>modality</th>\n",
              "      <th>duration</th>\n",
              "      <th>city</th>\n",
              "      <th>country</th>\n",
              "      <th>administration</th>\n",
              "    </tr>\n",
              "  </thead>\n",
              "  <tbody>\n",
              "    <tr>\n",
              "      <th>0</th>\n",
              "      <td>Masters of Science in Business, Supply Chain A...</td>\n",
              "      <td>Oregon State University</td>\n",
              "      <td>School of Business</td>\n",
              "      <td>Full time&amp;Part time</td>\n",
              "      <td>Master of Science in Business (MSB)Our Master ...</td>\n",
              "      <td>See Course</td>\n",
              "      <td>You can find more information here:Please see ...</td>\n",
              "      <td>MSc</td>\n",
              "      <td>12 months</td>\n",
              "      <td>Corvallis</td>\n",
              "      <td>USA</td>\n",
              "      <td>Online</td>\n",
              "    </tr>\n",
              "    <tr>\n",
              "      <th>1</th>\n",
              "      <td>Immersive Technology (with Advanced Practice) MSc</td>\n",
              "      <td>Teesside University</td>\n",
              "      <td>School of Computing, Engineering &amp; Design Tech...</td>\n",
              "      <td>Full time</td>\n",
              "      <td>Immersive technologies is a rapidly growing se...</td>\n",
              "      <td>January, September</td>\n",
              "      <td>Please see the university website for further ...</td>\n",
              "      <td>MSc</td>\n",
              "      <td>2 Years</td>\n",
              "      <td>Middlesbrough</td>\n",
              "      <td>United Kingdom</td>\n",
              "      <td>On Campus</td>\n",
              "    </tr>\n",
              "    <tr>\n",
              "      <th>2</th>\n",
              "      <td>Clinical Neuropsychology - MSc(MedSci)/PgDip</td>\n",
              "      <td>University of Glasgow</td>\n",
              "      <td>College of Medical, Veterinary &amp; Life Sciences</td>\n",
              "      <td>Full time&amp;Part time</td>\n",
              "      <td>Designed for those who are eligible for regist...</td>\n",
              "      <td>September</td>\n",
              "      <td>Please see the university website for further ...</td>\n",
              "      <td>PGDip,MSc</td>\n",
              "      <td>See Programme Description</td>\n",
              "      <td>Glasgow</td>\n",
              "      <td>United Kingdom</td>\n",
              "      <td>On Campus</td>\n",
              "    </tr>\n",
              "  </tbody>\n",
              "</table>\n",
              "</div>"
            ],
            "text/plain": [
              "                                          courseName           universityName  \\\n",
              "0  Masters of Science in Business, Supply Chain A...  Oregon State University   \n",
              "1  Immersive Technology (with Advanced Practice) MSc      Teesside University   \n",
              "2       Clinical Neuropsychology - MSc(MedSci)/PgDip    University of Glasgow   \n",
              "\n",
              "                                         facultyName         isItFullTime  \\\n",
              "0                                 School of Business  Full time&Part time   \n",
              "1  School of Computing, Engineering & Design Tech...            Full time   \n",
              "2     College of Medical, Veterinary & Life Sciences  Full time&Part time   \n",
              "\n",
              "                                         description           startDate  \\\n",
              "0  Master of Science in Business (MSB)Our Master ...          See Course   \n",
              "1  Immersive technologies is a rapidly growing se...  January, September   \n",
              "2  Designed for those who are eligible for regist...           September   \n",
              "\n",
              "                                                fees   modality  \\\n",
              "0  You can find more information here:Please see ...        MSc   \n",
              "1  Please see the university website for further ...        MSc   \n",
              "2  Please see the university website for further ...  PGDip,MSc   \n",
              "\n",
              "                    duration           city         country administration  \n",
              "0                  12 months      Corvallis             USA         Online  \n",
              "1                    2 Years  Middlesbrough  United Kingdom      On Campus  \n",
              "2  See Programme Description        Glasgow  United Kingdom      On Campus  "
            ]
          },
          "execution_count": 4,
          "metadata": {},
          "output_type": "execute_result"
        }
      ],
      "source": [
        "df = dataset.copy()\n",
        "df.head(3)"
      ]
    },
    {
      "cell_type": "markdown",
      "metadata": {
        "id": "G6hrdjIalVhV"
      },
      "source": [
        "# 2. Search Engine\n",
        "### 2.0.0 Preprocessing the text\n",
        "First, you must pre-process all the information collected for each MSc by:\n",
        "\n",
        "  * Removing stopwords\n",
        "  * Removing punctuation\n",
        "  * Stemming\n",
        "  * Anything else you think it's needed\n"
      ]
    },
    {
      "cell_type": "markdown",
      "metadata": {
        "id": "sq2YPzszSkUD"
      },
      "source": [
        "Now, as the dataset is loaded, I will apply some preprocessing to all columns. This pre-processing includes, tokenizing, standardazing the text (lower case and removing stop words), and stemming the text of all columns."
      ]
    },
    {
      "cell_type": "code",
      "execution_count": 5,
      "metadata": {
        "id": "9PyVTobdp1BU"
      },
      "outputs": [],
      "source": [
        "desired_columns = [x for x in df.columns if x != \"fees\"]\n",
        "for column in desired_columns:\n",
        "    df[column+\"_clean\"] = df[column].apply(lambda x: preprocessing(x))"
      ]
    },
    {
      "cell_type": "code",
      "execution_count": 6,
      "metadata": {
        "colab": {
          "base_uri": "https://localhost:8080/",
          "height": 603
        },
        "id": "SXvxsgCwg3v7",
        "outputId": "70678fbd-0200-4f12-ee6e-24ba85f8a162"
      },
      "outputs": [
        {
          "data": {
            "text/html": [
              "<div>\n",
              "<style scoped>\n",
              "    .dataframe tbody tr th:only-of-type {\n",
              "        vertical-align: middle;\n",
              "    }\n",
              "\n",
              "    .dataframe tbody tr th {\n",
              "        vertical-align: top;\n",
              "    }\n",
              "\n",
              "    .dataframe thead th {\n",
              "        text-align: right;\n",
              "    }\n",
              "</style>\n",
              "<table border=\"1\" class=\"dataframe\">\n",
              "  <thead>\n",
              "    <tr style=\"text-align: right;\">\n",
              "      <th></th>\n",
              "      <th>courseName</th>\n",
              "      <th>universityName</th>\n",
              "      <th>facultyName</th>\n",
              "      <th>isItFullTime</th>\n",
              "      <th>description</th>\n",
              "      <th>startDate</th>\n",
              "      <th>fees</th>\n",
              "      <th>modality</th>\n",
              "      <th>duration</th>\n",
              "      <th>city</th>\n",
              "      <th>...</th>\n",
              "      <th>universityName_clean</th>\n",
              "      <th>facultyName_clean</th>\n",
              "      <th>isItFullTime_clean</th>\n",
              "      <th>description_clean</th>\n",
              "      <th>startDate_clean</th>\n",
              "      <th>modality_clean</th>\n",
              "      <th>duration_clean</th>\n",
              "      <th>city_clean</th>\n",
              "      <th>country_clean</th>\n",
              "      <th>administration_clean</th>\n",
              "    </tr>\n",
              "  </thead>\n",
              "  <tbody>\n",
              "    <tr>\n",
              "      <th>0</th>\n",
              "      <td>Masters of Science in Business, Supply Chain A...</td>\n",
              "      <td>Oregon State University</td>\n",
              "      <td>School of Business</td>\n",
              "      <td>Full time&amp;Part time</td>\n",
              "      <td>Master of Science in Business (MSB)Our Master ...</td>\n",
              "      <td>See Course</td>\n",
              "      <td>You can find more information here:Please see ...</td>\n",
              "      <td>MSc</td>\n",
              "      <td>12 months</td>\n",
              "      <td>Corvallis</td>\n",
              "      <td>...</td>\n",
              "      <td>[oregon, state, univers]</td>\n",
              "      <td>[school, busi]</td>\n",
              "      <td>[full, time, part, time]</td>\n",
              "      <td>[master, scienc, busi, msb, master, scienc, bu...</td>\n",
              "      <td>[see, cours]</td>\n",
              "      <td>[msc]</td>\n",
              "      <td>[month]</td>\n",
              "      <td>[corval]</td>\n",
              "      <td>[usa]</td>\n",
              "      <td>[onlin]</td>\n",
              "    </tr>\n",
              "    <tr>\n",
              "      <th>1</th>\n",
              "      <td>Immersive Technology (with Advanced Practice) MSc</td>\n",
              "      <td>Teesside University</td>\n",
              "      <td>School of Computing, Engineering &amp; Design Tech...</td>\n",
              "      <td>Full time</td>\n",
              "      <td>Immersive technologies is a rapidly growing se...</td>\n",
              "      <td>January, September</td>\n",
              "      <td>Please see the university website for further ...</td>\n",
              "      <td>MSc</td>\n",
              "      <td>2 Years</td>\n",
              "      <td>Middlesbrough</td>\n",
              "      <td>...</td>\n",
              "      <td>[teessid, univers]</td>\n",
              "      <td>[school, comput, engin, design, technolog]</td>\n",
              "      <td>[full, time]</td>\n",
              "      <td>[immers, technolog, rapidli, grow, sector, inv...</td>\n",
              "      <td>[januari, septemb]</td>\n",
              "      <td>[msc]</td>\n",
              "      <td>[year]</td>\n",
              "      <td>[middlesbrough]</td>\n",
              "      <td>[unit, kingdom]</td>\n",
              "      <td>[campu]</td>\n",
              "    </tr>\n",
              "    <tr>\n",
              "      <th>2</th>\n",
              "      <td>Clinical Neuropsychology - MSc(MedSci)/PgDip</td>\n",
              "      <td>University of Glasgow</td>\n",
              "      <td>College of Medical, Veterinary &amp; Life Sciences</td>\n",
              "      <td>Full time&amp;Part time</td>\n",
              "      <td>Designed for those who are eligible for regist...</td>\n",
              "      <td>September</td>\n",
              "      <td>Please see the university website for further ...</td>\n",
              "      <td>PGDip,MSc</td>\n",
              "      <td>See Programme Description</td>\n",
              "      <td>Glasgow</td>\n",
              "      <td>...</td>\n",
              "      <td>[univers, glasgow]</td>\n",
              "      <td>[colleg, medic, veterinari, life, scienc]</td>\n",
              "      <td>[full, time, part, time]</td>\n",
              "      <td>[design, elig, registr, health, profess, counc...</td>\n",
              "      <td>[septemb]</td>\n",
              "      <td>[pgdip, msc]</td>\n",
              "      <td>[see, programm, descript]</td>\n",
              "      <td>[glasgow]</td>\n",
              "      <td>[unit, kingdom]</td>\n",
              "      <td>[campu]</td>\n",
              "    </tr>\n",
              "    <tr>\n",
              "      <th>3</th>\n",
              "      <td>Demography and Social Inequality DDM</td>\n",
              "      <td>University of Groningen</td>\n",
              "      <td>Spatial Sciences</td>\n",
              "      <td>Full time</td>\n",
              "      <td>What impact did the recent economic crisis hav...</td>\n",
              "      <td>September</td>\n",
              "      <td>Please see the university website for further ...</td>\n",
              "      <td>MSc</td>\n",
              "      <td>2 years full time</td>\n",
              "      <td>Groningen</td>\n",
              "      <td>...</td>\n",
              "      <td>[univers, groningen]</td>\n",
              "      <td>[spatial, scienc]</td>\n",
              "      <td>[full, time]</td>\n",
              "      <td>[impact, recent, econom, crisi, live, work, co...</td>\n",
              "      <td>[septemb]</td>\n",
              "      <td>[msc]</td>\n",
              "      <td>[year, full, time]</td>\n",
              "      <td>[groningen]</td>\n",
              "      <td>[netherland]</td>\n",
              "      <td>[campu]</td>\n",
              "    </tr>\n",
              "    <tr>\n",
              "      <th>4</th>\n",
              "      <td>MSc Financial Mathematics</td>\n",
              "      <td>University College Dublin</td>\n",
              "      <td>UCD School of Mathematics and Statistics</td>\n",
              "      <td>Full time&amp;Part time</td>\n",
              "      <td>Graduate Taught (level 9 nfq, credits 90)The M...</td>\n",
              "      <td>September</td>\n",
              "      <td>Please see the university website for further ...</td>\n",
              "      <td>MSc</td>\n",
              "      <td>1 year full time - 2 years part time</td>\n",
              "      <td>Dublin</td>\n",
              "      <td>...</td>\n",
              "      <td>[univers, colleg, dublin]</td>\n",
              "      <td>[ucd, school, mathemat, statist]</td>\n",
              "      <td>[full, time, part, time]</td>\n",
              "      <td>[graduat, taught, level, nfq, credit, msc, fin...</td>\n",
              "      <td>[septemb]</td>\n",
              "      <td>[msc]</td>\n",
              "      <td>[year, full, time, year, part, time]</td>\n",
              "      <td>[dublin]</td>\n",
              "      <td>[ireland]</td>\n",
              "      <td>[campu]</td>\n",
              "    </tr>\n",
              "  </tbody>\n",
              "</table>\n",
              "<p>5 rows × 23 columns</p>\n",
              "</div>"
            ],
            "text/plain": [
              "                                          courseName  \\\n",
              "0  Masters of Science in Business, Supply Chain A...   \n",
              "1  Immersive Technology (with Advanced Practice) MSc   \n",
              "2       Clinical Neuropsychology - MSc(MedSci)/PgDip   \n",
              "3               Demography and Social Inequality DDM   \n",
              "4                          MSc Financial Mathematics   \n",
              "\n",
              "              universityName  \\\n",
              "0    Oregon State University   \n",
              "1        Teesside University   \n",
              "2      University of Glasgow   \n",
              "3    University of Groningen   \n",
              "4  University College Dublin   \n",
              "\n",
              "                                         facultyName         isItFullTime  \\\n",
              "0                                 School of Business  Full time&Part time   \n",
              "1  School of Computing, Engineering & Design Tech...            Full time   \n",
              "2     College of Medical, Veterinary & Life Sciences  Full time&Part time   \n",
              "3                                   Spatial Sciences            Full time   \n",
              "4           UCD School of Mathematics and Statistics  Full time&Part time   \n",
              "\n",
              "                                         description           startDate  \\\n",
              "0  Master of Science in Business (MSB)Our Master ...          See Course   \n",
              "1  Immersive technologies is a rapidly growing se...  January, September   \n",
              "2  Designed for those who are eligible for regist...           September   \n",
              "3  What impact did the recent economic crisis hav...           September   \n",
              "4  Graduate Taught (level 9 nfq, credits 90)The M...           September   \n",
              "\n",
              "                                                fees   modality  \\\n",
              "0  You can find more information here:Please see ...        MSc   \n",
              "1  Please see the university website for further ...        MSc   \n",
              "2  Please see the university website for further ...  PGDip,MSc   \n",
              "3  Please see the university website for further ...        MSc   \n",
              "4  Please see the university website for further ...        MSc   \n",
              "\n",
              "                               duration           city  ...  \\\n",
              "0                             12 months      Corvallis  ...   \n",
              "1                               2 Years  Middlesbrough  ...   \n",
              "2             See Programme Description        Glasgow  ...   \n",
              "3                     2 years full time      Groningen  ...   \n",
              "4  1 year full time - 2 years part time         Dublin  ...   \n",
              "\n",
              "        universityName_clean                           facultyName_clean  \\\n",
              "0   [oregon, state, univers]                              [school, busi]   \n",
              "1         [teessid, univers]  [school, comput, engin, design, technolog]   \n",
              "2         [univers, glasgow]   [colleg, medic, veterinari, life, scienc]   \n",
              "3       [univers, groningen]                           [spatial, scienc]   \n",
              "4  [univers, colleg, dublin]            [ucd, school, mathemat, statist]   \n",
              "\n",
              "         isItFullTime_clean  \\\n",
              "0  [full, time, part, time]   \n",
              "1              [full, time]   \n",
              "2  [full, time, part, time]   \n",
              "3              [full, time]   \n",
              "4  [full, time, part, time]   \n",
              "\n",
              "                                   description_clean     startDate_clean  \\\n",
              "0  [master, scienc, busi, msb, master, scienc, bu...        [see, cours]   \n",
              "1  [immers, technolog, rapidli, grow, sector, inv...  [januari, septemb]   \n",
              "2  [design, elig, registr, health, profess, counc...           [septemb]   \n",
              "3  [impact, recent, econom, crisi, live, work, co...           [septemb]   \n",
              "4  [graduat, taught, level, nfq, credit, msc, fin...           [septemb]   \n",
              "\n",
              "  modality_clean                        duration_clean       city_clean  \\\n",
              "0          [msc]                               [month]         [corval]   \n",
              "1          [msc]                                [year]  [middlesbrough]   \n",
              "2   [pgdip, msc]             [see, programm, descript]        [glasgow]   \n",
              "3          [msc]                    [year, full, time]      [groningen]   \n",
              "4          [msc]  [year, full, time, year, part, time]         [dublin]   \n",
              "\n",
              "     country_clean administration_clean  \n",
              "0            [usa]              [onlin]  \n",
              "1  [unit, kingdom]              [campu]  \n",
              "2  [unit, kingdom]              [campu]  \n",
              "3     [netherland]              [campu]  \n",
              "4        [ireland]              [campu]  \n",
              "\n",
              "[5 rows x 23 columns]"
            ]
          },
          "execution_count": 6,
          "metadata": {},
          "output_type": "execute_result"
        }
      ],
      "source": [
        "df.head()"
      ]
    },
    {
      "cell_type": "markdown",
      "metadata": {},
      "source": [
        "Now, it is time to do some preprocssing with the fees column. We have to ensure that all the fees are in Euro (decided) and the column is of dtype float. So, let's do it!\n",
        "\n",
        "First, I will replace all the entries that are prompting to contact the university or visit webpage. Then, I will see what currency symbols have been used through out the dataset so that I can desing my regex accordingly."
      ]
    },
    {
      "cell_type": "code",
      "execution_count": 7,
      "metadata": {
        "id": "Io4gD25qRSm5"
      },
      "outputs": [
        {
          "data": {
            "text/plain": [
              "['$', '€', '£']"
            ]
          },
          "execution_count": 7,
          "metadata": {},
          "output_type": "execute_result"
        }
      ],
      "source": [
        "if_website_or_contact_replace(df, \"fees\")\n",
        "df[\"fees_clean\"] = df[\"fees_clean\"].apply(lambda x: \"Not Available\" if pd.isnull(x) else x)\n",
        "symbols_list = extract_symbols(df)\n",
        "symbols_list"
      ]
    },
    {
      "cell_type": "markdown",
      "metadata": {},
      "source": [
        "Now, from all of the text in each row of the \"fees\" column, I will only keep the max amount and the currency name."
      ]
    },
    {
      "cell_type": "code",
      "execution_count": 8,
      "metadata": {
        "colab": {
          "base_uri": "https://localhost:8080/",
          "height": 424
        },
        "id": "Eiklq_QhCAoW",
        "outputId": "d3594084-0aa1-4198-fa68-a4d46a6ba530"
      },
      "outputs": [
        {
          "data": {
            "text/html": [
              "<div>\n",
              "<style scoped>\n",
              "    .dataframe tbody tr th:only-of-type {\n",
              "        vertical-align: middle;\n",
              "    }\n",
              "\n",
              "    .dataframe tbody tr th {\n",
              "        vertical-align: top;\n",
              "    }\n",
              "\n",
              "    .dataframe thead th {\n",
              "        text-align: right;\n",
              "    }\n",
              "</style>\n",
              "<table border=\"1\" class=\"dataframe\">\n",
              "  <thead>\n",
              "    <tr style=\"text-align: right;\">\n",
              "      <th></th>\n",
              "      <th>fees</th>\n",
              "      <th>fees_clean</th>\n",
              "    </tr>\n",
              "  </thead>\n",
              "  <tbody>\n",
              "    <tr>\n",
              "      <th>0</th>\n",
              "      <td>You can find more information here:Please see ...</td>\n",
              "      <td>Not Available</td>\n",
              "    </tr>\n",
              "    <tr>\n",
              "      <th>1</th>\n",
              "      <td>Please see the university website for further ...</td>\n",
              "      <td>Not Available</td>\n",
              "    </tr>\n",
              "    <tr>\n",
              "      <th>2</th>\n",
              "      <td>Please see the university website for further ...</td>\n",
              "      <td>Not Available</td>\n",
              "    </tr>\n",
              "    <tr>\n",
              "      <th>3</th>\n",
              "      <td>Please see the university website for further ...</td>\n",
              "      <td>Not Available</td>\n",
              "    </tr>\n",
              "    <tr>\n",
              "      <th>4</th>\n",
              "      <td>Please see the university website for further ...</td>\n",
              "      <td>Not Available</td>\n",
              "    </tr>\n",
              "    <tr>\n",
              "      <th>...</th>\n",
              "      <td>...</td>\n",
              "      <td>...</td>\n",
              "    </tr>\n",
              "    <tr>\n",
              "      <th>5974</th>\n",
              "      <td>Full time -£14,100Part time - £7,050</td>\n",
              "      <td>14100.0 GBP</td>\n",
              "    </tr>\n",
              "    <tr>\n",
              "      <th>5975</th>\n",
              "      <td>Tuition fees (2024-2025):EU/EEA nationals: 835...</td>\n",
              "      <td>2782.0 EUR</td>\n",
              "    </tr>\n",
              "    <tr>\n",
              "      <th>5976</th>\n",
              "      <td>UK studentsFull-time students: £9,600Part-time...</td>\n",
              "      <td>9600.0 GBP</td>\n",
              "    </tr>\n",
              "    <tr>\n",
              "      <th>5977</th>\n",
              "      <td>Cost: 28020 USDThe program lasts 2 years (4 se...</td>\n",
              "      <td>28020.0 USD</td>\n",
              "    </tr>\n",
              "    <tr>\n",
              "      <th>5978</th>\n",
              "      <td>Please see the university website for further ...</td>\n",
              "      <td>Not Available</td>\n",
              "    </tr>\n",
              "  </tbody>\n",
              "</table>\n",
              "<p>5979 rows × 2 columns</p>\n",
              "</div>"
            ],
            "text/plain": [
              "                                                   fees     fees_clean\n",
              "0     You can find more information here:Please see ...  Not Available\n",
              "1     Please see the university website for further ...  Not Available\n",
              "2     Please see the university website for further ...  Not Available\n",
              "3     Please see the university website for further ...  Not Available\n",
              "4     Please see the university website for further ...  Not Available\n",
              "...                                                 ...            ...\n",
              "5974               Full time -£14,100Part time - £7,050    14100.0 GBP\n",
              "5975  Tuition fees (2024-2025):EU/EEA nationals: 835...     2782.0 EUR\n",
              "5976  UK studentsFull-time students: £9,600Part-time...     9600.0 GBP\n",
              "5977  Cost: 28020 USDThe program lasts 2 years (4 se...    28020.0 USD\n",
              "5978  Please see the university website for further ...  Not Available\n",
              "\n",
              "[5979 rows x 2 columns]"
            ]
          },
          "execution_count": 8,
          "metadata": {},
          "output_type": "execute_result"
        }
      ],
      "source": [
        "df[\"fees_clean\"] = df[\"fees_clean\"].apply(lambda x: extract_numeric_and_currency(x))\n",
        "df.loc[:, [\"fees\",\"fees_clean\"]]"
      ]
    },
    {
      "cell_type": "markdown",
      "metadata": {},
      "source": [
        "Now, I will create two more columns and use these columns to make make a new column FEE_EUR where all the fees are in EUR."
      ]
    },
    {
      "cell_type": "code",
      "execution_count": 9,
      "metadata": {
        "colab": {
          "base_uri": "https://localhost:8080/"
        },
        "id": "GKgIJkt02evQ",
        "outputId": "54111e3c-8499-45c2-b265-e975b0e719b2"
      },
      "outputs": [],
      "source": [
        "# Apply extraction functions to create new columns\n",
        "df['numeric_value'] = df['fees_clean'].apply(extract_numeric_value)\n",
        "df['currency_name'] = df['fees_clean'].apply(extract_currency_name)"
      ]
    },
    {
      "cell_type": "code",
      "execution_count": null,
      "metadata": {},
      "outputs": [],
      "source": [
        "tqdm.pandas()\n",
        "def apply_convert_to_eur(row):\n",
        "    return convert_to_eur(row['numeric_value'], row['currency_name'])\n",
        "df['FEE_EUR'] = df.progress_apply(apply_convert_to_eur, axis=1)"
      ]
    },
    {
      "cell_type": "markdown",
      "metadata": {},
      "source": [
        "Finally, I will delete the extra columns. Namely: \"fees_clean\", \"numeric_value\", \"currency_name\""
      ]
    },
    {
      "cell_type": "code",
      "execution_count": null,
      "metadata": {
        "id": "ekNZunW39XqZ"
      },
      "outputs": [],
      "source": [
        "df.columns\n",
        "columns_to_drop = [\"fees_clean\", \"numeric_value\", \"currency_name\"]\n",
        "df = df.drop(columns=columns_to_drop)"
      ]
    },
    {
      "cell_type": "markdown",
      "metadata": {
        "id": "rVW7gc53MJGv"
      },
      "source": [
        "### 2.1. Conjunctive query\n",
        "\n",
        "2.1.1 Create your index!\n",
        "Before building the index,\n",
        "\n",
        "Create a file named vocabulary, in the format you prefer, that maps each word to an integer (term_id)."
      ]
    },
    {
      "cell_type": "code",
      "execution_count": 10,
      "metadata": {
        "id": "qbbThtjJMOEq"
      },
      "outputs": [],
      "source": [
        "vocabulary = set() # set to remove duplicates and efficiency\n",
        "# I will only used the description column as stated in the HW\n",
        "df.description_clean.apply(lambda row: [vocabulary.add(word) for word in row])\n",
        "vocabulary = list(vocabulary)"
      ]
    },
    {
      "cell_type": "markdown",
      "metadata": {},
      "source": [
        "The variable vocabulary contains, in a list, all the words used in the description column. The question requires us to make a file named vocabulary that *maps each word to an integer (term_id).*"
      ]
    },
    {
      "cell_type": "code",
      "execution_count": 11,
      "metadata": {},
      "outputs": [],
      "source": [
        "# maps each word to an integer (term_id)\n",
        "vocab_with_index = dict()\n",
        "unique_id = 0\n",
        "for word in vocabulary:\n",
        "  vocab_with_index[word] = unique_id\n",
        "  unique_id+=1\n",
        "vocab_with_index\n",
        "\n",
        "with open(\"/Users/saifdev/Desktop/vocabulary.json\", \"w\") as file: # storing for reusability\n",
        "    json.dump(vocab_with_index, file)"
      ]
    },
    {
      "cell_type": "code",
      "execution_count": 12,
      "metadata": {},
      "outputs": [],
      "source": [
        "vocab_with_index = json.load(open(\"/Users/saifdev/Desktop/vocabulary.json\", \"r\")) # loading for use"
      ]
    },
    {
      "cell_type": "markdown",
      "metadata": {},
      "source": [
        "#### 2.1.1\n",
        "Then, the first brick of your homework is to create the Inverted Index. It will be a dictionary in this format:\n",
        "\n",
        "{\n",
        "term_id_1:[document_1, document_2, document_4],\n",
        "term_id_2:[document_1, document_3, document_5, document_6],\n",
        "...}"
      ]
    },
    {
      "cell_type": "markdown",
      "metadata": {},
      "source": [
        "To create the inverted index, I can use the procedure used in the lab as follows:"
      ]
    },
    {
      "cell_type": "code",
      "execution_count": 13,
      "metadata": {
        "colab": {
          "base_uri": "https://localhost:8080/"
        },
        "id": "9NpcKG7aYaQF",
        "outputId": "45b4024a-880b-4f58-f8c7-7abd7828531a"
      },
      "outputs": [
        {
          "name": "stderr",
          "output_type": "stream",
          "text": [
            "100%|██████████| 9707/9707 [00:43<00:00, 225.54it/s]\n"
          ]
        },
        {
          "data": {
            "text/html": [
              "<div>\n",
              "<style scoped>\n",
              "    .dataframe tbody tr th:only-of-type {\n",
              "        vertical-align: middle;\n",
              "    }\n",
              "\n",
              "    .dataframe tbody tr th {\n",
              "        vertical-align: top;\n",
              "    }\n",
              "\n",
              "    .dataframe thead th {\n",
              "        text-align: right;\n",
              "    }\n",
              "</style>\n",
              "<table border=\"1\" class=\"dataframe\">\n",
              "  <thead>\n",
              "    <tr style=\"text-align: right;\">\n",
              "      <th></th>\n",
              "      <th>Term</th>\n",
              "      <th>reverse</th>\n",
              "    </tr>\n",
              "  </thead>\n",
              "  <tbody>\n",
              "    <tr>\n",
              "      <th>0</th>\n",
              "      <td>length</td>\n",
              "      <td>[151, 272, 363, 430, 657, 852, 1185, 1195, 131...</td>\n",
              "    </tr>\n",
              "    <tr>\n",
              "      <th>1</th>\n",
              "      <td>besançon</td>\n",
              "      <td>[2535]</td>\n",
              "    </tr>\n",
              "    <tr>\n",
              "      <th>2</th>\n",
              "      <td>astrobiolog</td>\n",
              "      <td>[3857, 5067]</td>\n",
              "    </tr>\n",
              "    <tr>\n",
              "      <th>3</th>\n",
              "      <td>bypass</td>\n",
              "      <td>[1496]</td>\n",
              "    </tr>\n",
              "    <tr>\n",
              "      <th>4</th>\n",
              "      <td>programmeprovid</td>\n",
              "      <td>[782]</td>\n",
              "    </tr>\n",
              "  </tbody>\n",
              "</table>\n",
              "</div>"
            ],
            "text/plain": [
              "              Term                                            reverse\n",
              "0           length  [151, 272, 363, 430, 657, 852, 1185, 1195, 131...\n",
              "1         besançon                                             [2535]\n",
              "2      astrobiolog                                       [3857, 5067]\n",
              "3           bypass                                             [1496]\n",
              "4  programmeprovid                                              [782]"
            ]
          },
          "execution_count": 13,
          "metadata": {},
          "output_type": "execute_result"
        }
      ],
      "source": [
        "Terms = pd.DataFrame(data=vocab_with_index.keys(), columns=['Term']) # from lab\n",
        "tqdm.pandas() # to create partial inverted index, as shown in lab\n",
        "Terms['reverse'] = Terms.Term.progress_apply(lambda item: list(df.loc[df.description_clean.apply(lambda row: item in row)].index))\n",
        "Terms.head()\n",
        "# inverted_index = dict(zip(Terms.index, Terms['reverse'])) "
      ]
    },
    {
      "cell_type": "markdown",
      "metadata": {},
      "source": [
        "OR, I can use the function that I create to make an inverted list. Here's how:"
      ]
    },
    {
      "cell_type": "code",
      "execution_count": 14,
      "metadata": {},
      "outputs": [],
      "source": [
        "inverted_index = inverted_index(vocab_with_index, df)"
      ]
    },
    {
      "cell_type": "markdown",
      "metadata": {},
      "source": [
        "I will now store this inverted index locally"
      ]
    },
    {
      "cell_type": "code",
      "execution_count": 15,
      "metadata": {},
      "outputs": [],
      "source": [
        "with open(\"/Users/saifdev/Desktop/inverted_index_1.json\", \"w\") as file: # storing for reusability\n",
        "    json.dump(inverted_index, file)\n",
        "inverted_index = json.load(open(\"/Users/saifdev/Desktop/inverted_index_1.json\", \"r\")) # loading for use"
      ]
    },
    {
      "cell_type": "markdown",
      "metadata": {},
      "source": [
        "2.1.2) Execute the query\n",
        "Given a query input by the user, for example:\n",
        "\n",
        "advanced knowledge\n",
        "\n",
        "The Search Engine is supposed to return a list of documents."
      ]
    },
    {
      "cell_type": "markdown",
      "metadata": {},
      "source": [
        "For this task, I will first take the input from the user and then normalize the query using the same technique I used to preprocess the description column."
      ]
    },
    {
      "cell_type": "code",
      "execution_count": 16,
      "metadata": {},
      "outputs": [],
      "source": [
        "user_input = input(\"Add your Input\")\n",
        "normalized_query = normalize_query(user_input)"
      ]
    },
    {
      "cell_type": "markdown",
      "metadata": {},
      "source": [
        "Now, I will extract the term_id from the vocabulary with the index in order to utilize it for the inverted index"
      ]
    },
    {
      "cell_type": "code",
      "execution_count": 17,
      "metadata": {},
      "outputs": [],
      "source": [
        "term_ids = get_term_id_from_query(vocab_with_index, normalized_query)"
      ]
    },
    {
      "cell_type": "code",
      "execution_count": 18,
      "metadata": {},
      "outputs": [
        {
          "data": {
            "text/html": [
              "<div>\n",
              "<style scoped>\n",
              "    .dataframe tbody tr th:only-of-type {\n",
              "        vertical-align: middle;\n",
              "    }\n",
              "\n",
              "    .dataframe tbody tr th {\n",
              "        vertical-align: top;\n",
              "    }\n",
              "\n",
              "    .dataframe thead th {\n",
              "        text-align: right;\n",
              "    }\n",
              "</style>\n",
              "<table border=\"1\" class=\"dataframe\">\n",
              "  <thead>\n",
              "    <tr style=\"text-align: right;\">\n",
              "      <th></th>\n",
              "      <th>courseName</th>\n",
              "      <th>universityName</th>\n",
              "      <th>description</th>\n",
              "    </tr>\n",
              "  </thead>\n",
              "  <tbody>\n",
              "    <tr>\n",
              "      <th>0</th>\n",
              "      <td>Biomedical Science (Medical Immunology) MSc</td>\n",
              "      <td>This master's programme will allow you to deve...</td>\n",
              "      <td>This master's programme will allow you to deve...</td>\n",
              "    </tr>\n",
              "    <tr>\n",
              "      <th>1</th>\n",
              "      <td>MSc In People Analytics</td>\n",
              "      <td>Start date: January 2024Play an essential role...</td>\n",
              "      <td>Start date: January 2024Play an essential role...</td>\n",
              "    </tr>\n",
              "    <tr>\n",
              "      <th>2</th>\n",
              "      <td>Clinical Pharmacy - MSc</td>\n",
              "      <td>The Clinical Pharmacy MSc has been designed to...</td>\n",
              "      <td>The Clinical Pharmacy MSc has been designed to...</td>\n",
              "    </tr>\n",
              "    <tr>\n",
              "      <th>3</th>\n",
              "      <td>Master of Science (MS) in Toxicology for Human...</td>\n",
              "      <td>The Master of Science (MS) in Toxicology for H...</td>\n",
              "      <td>The Master of Science (MS) in Toxicology for H...</td>\n",
              "    </tr>\n",
              "    <tr>\n",
              "      <th>4</th>\n",
              "      <td>Environmental Management for Business (MSc)</td>\n",
              "      <td>Study for a successful environmental managemen...</td>\n",
              "      <td>Study for a successful environmental managemen...</td>\n",
              "    </tr>\n",
              "    <tr>\n",
              "      <th>5</th>\n",
              "      <td>Engineering Management MSc</td>\n",
              "      <td>The career of an engineering project manager i...</td>\n",
              "      <td>The career of an engineering project manager i...</td>\n",
              "    </tr>\n",
              "    <tr>\n",
              "      <th>6</th>\n",
              "      <td>Electronics Engineering</td>\n",
              "      <td>This programme focuses on the design of integr...</td>\n",
              "      <td>This programme focuses on the design of integr...</td>\n",
              "    </tr>\n",
              "    <tr>\n",
              "      <th>7</th>\n",
              "      <td>MSc - Economics</td>\n",
              "      <td>Our MSc programmes in Economics will give you ...</td>\n",
              "      <td>Our MSc programmes in Economics will give you ...</td>\n",
              "    </tr>\n",
              "    <tr>\n",
              "      <th>8</th>\n",
              "      <td>Data, Inequality and Society (Online Learning)...</td>\n",
              "      <td>Programme descriptionWhat makes societies incl...</td>\n",
              "      <td>Programme descriptionWhat makes societies incl...</td>\n",
              "    </tr>\n",
              "    <tr>\n",
              "      <th>9</th>\n",
              "      <td>Big Data Technologies MSc</td>\n",
              "      <td>This programme is ideal if you want to pursue ...</td>\n",
              "      <td>This programme is ideal if you want to pursue ...</td>\n",
              "    </tr>\n",
              "  </tbody>\n",
              "</table>\n",
              "</div>"
            ],
            "text/plain": [
              "                                          courseName  \\\n",
              "0        Biomedical Science (Medical Immunology) MSc   \n",
              "1                            MSc In People Analytics   \n",
              "2                            Clinical Pharmacy - MSc   \n",
              "3  Master of Science (MS) in Toxicology for Human...   \n",
              "4        Environmental Management for Business (MSc)   \n",
              "5                         Engineering Management MSc   \n",
              "6                            Electronics Engineering   \n",
              "7                                    MSc - Economics   \n",
              "8  Data, Inequality and Society (Online Learning)...   \n",
              "9                          Big Data Technologies MSc   \n",
              "\n",
              "                                      universityName  \\\n",
              "0  This master's programme will allow you to deve...   \n",
              "1  Start date: January 2024Play an essential role...   \n",
              "2  The Clinical Pharmacy MSc has been designed to...   \n",
              "3  The Master of Science (MS) in Toxicology for H...   \n",
              "4  Study for a successful environmental managemen...   \n",
              "5  The career of an engineering project manager i...   \n",
              "6  This programme focuses on the design of integr...   \n",
              "7  Our MSc programmes in Economics will give you ...   \n",
              "8  Programme descriptionWhat makes societies incl...   \n",
              "9  This programme is ideal if you want to pursue ...   \n",
              "\n",
              "                                         description  \n",
              "0  This master's programme will allow you to deve...  \n",
              "1  Start date: January 2024Play an essential role...  \n",
              "2  The Clinical Pharmacy MSc has been designed to...  \n",
              "3  The Master of Science (MS) in Toxicology for H...  \n",
              "4  Study for a successful environmental managemen...  \n",
              "5  The career of an engineering project manager i...  \n",
              "6  This programme focuses on the design of integr...  \n",
              "7  Our MSc programmes in Economics will give you ...  \n",
              "8  Programme descriptionWhat makes societies incl...  \n",
              "9  This programme is ideal if you want to pursue ...  "
            ]
          },
          "execution_count": 18,
          "metadata": {},
          "output_type": "execute_result"
        }
      ],
      "source": [
        "new_dataset = search_engine(term_ids, df, inverted_index).head(10)\n",
        "new_dataset"
      ]
    },
    {
      "cell_type": "markdown",
      "metadata": {},
      "source": [
        "#### 2.2) Conjunctive query & Ranking score\n",
        "\n",
        "For the second search engine, given a query, we want to get the top-k (the choice of k it's up to you!) documents related to the query. In particular:\n",
        "\n",
        "Find all the documents that contain all the words in the query.\n",
        "Sort them by their similarity with the query.\n",
        "Return in output k documents, or all the documents with non-zero similarity with the query when the results are less than k. You must use a heap data structure (you can use Python libraries) for maintaining the top-k documents.\n",
        "To solve this task, you must use the tfIdf score and the Cosine similarity. The field to consider is still the description. Let's see how.\n",
        "\n",
        "##### 2.2.1) Inverted index\n",
        "Your second Inverted Index must be of this format:\n",
        "\n",
        "{\n",
        "term_id_1:[(document1, tfIdf_{term,document1}), (document2, tfIdf_{term,document2}), (document4, tfIdf_{term,document4}), ...],\n",
        "term_id_2:[(document1, tfIdf_{term,document1}), (document3, tfIdf_{term,document3}), (document5, tfIdf_{term,document5}), (document6, tfIdf_{term,document6}), ...],\n",
        "...}\n",
        "\n"
      ]
    },
    {
      "cell_type": "code",
      "execution_count": null,
      "metadata": {},
      "outputs": [],
      "source": [
        "word_and_appearances = dict(zip(Terms[\"Term\"], Terms['reverse'])) # will help with the search engine"
      ]
    },
    {
      "cell_type": "code",
      "execution_count": null,
      "metadata": {},
      "outputs": [],
      "source": [
        "def inverted_index2(word_and_appearances, df):\n",
        "    inverted_ind = {}\n",
        "    words = list(word_and_appearances.keys())\n",
        "    for key in word_and_appearances.keys():\n",
        "        appearances = word_and_appearances[key]\n",
        "        result = []\n",
        "        for doc in appearances:\n",
        "            interested_row = df.at[doc, \"description_clean\"] # extract the list of tokens from a proper column\n",
        "            interested_word = key #i-th word\n",
        "            tf = interested_row.count(interested_word) / len(interested_row)\n",
        "            idf = math.log(len(df)/len(appearances))\n",
        "            tf_idf = round(tf * idf, 3)\n",
        "            result.append((doc,tf_idf))\n",
        "\n",
        "        inverted_ind[words.index(key)] = result # insert the result into the inverted list\n",
        "\n",
        "    return inverted_ind"
      ]
    },
    {
      "cell_type": "code",
      "execution_count": null,
      "metadata": {},
      "outputs": [],
      "source": [
        "inv_lst2 = inverted_list_2(vocab_with_index, df)"
      ]
    },
    {
      "cell_type": "code",
      "execution_count": null,
      "metadata": {},
      "outputs": [],
      "source": [
        "def create_documents_list(df, inv_lst2, word_and_appearances):\n",
        "    ### Input == The clean dataset, the new inverted list and the vocabulary\n",
        "    ### Output == A list of dictionary defined documents. For each row in clean dataset i create a dictionary and in this dictionary\n",
        "    ### I define like keys the token of Plot. For each token (keys) i use like values the tfidf.\n",
        "    documents = []\n",
        "    indexes = list(word_and_appearances.keys())\n",
        "    for i, row in df.iterrows():\n",
        "        tokens = {}\n",
        "        for token in df.at[i, \"description_clean\"]:\n",
        "            tuple_list_values = inv_lst2[indexes.index(token)]\n",
        "            for x in tuple_list_values:\n",
        "                if x[0] == i:\n",
        "                    tokens[token] = x[1]  \n",
        "                    break\n",
        "        documents.append(tokens)\n",
        "    return documents"
      ]
    },
    {
      "cell_type": "code",
      "execution_count": null,
      "metadata": {},
      "outputs": [],
      "source": [
        "documents = create_documents_list(df, inv_lst2, word_and_appearances)"
      ]
    },
    {
      "cell_type": "code",
      "execution_count": null,
      "metadata": {},
      "outputs": [],
      "source": [
        "word_and_appearances"
      ]
    },
    {
      "cell_type": "markdown",
      "metadata": {},
      "source": []
    }
  ],
  "metadata": {
    "colab": {
      "provenance": []
    },
    "kernelspec": {
      "display_name": "Python 3",
      "name": "python3"
    },
    "language_info": {
      "codemirror_mode": {
        "name": "ipython",
        "version": 3
      },
      "file_extension": ".py",
      "mimetype": "text/x-python",
      "name": "python",
      "nbconvert_exporter": "python",
      "pygments_lexer": "ipython3",
      "version": "3.9.17"
    }
  },
  "nbformat": 4,
  "nbformat_minor": 0
}
