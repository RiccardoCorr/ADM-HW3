{
 "cells": [
  {
   "cell_type": "markdown",
   "id": "7f496e4c",
   "metadata": {},
   "source": [
    "# 7. Algorithmic Question"
   ]
  },
  {
   "cell_type": "markdown",
   "id": "c1ae5913",
   "metadata": {},
   "source": [
    "#### 1. Implement a code to solve the above mentioned problem."
   ]
  },
  {
   "cell_type": "code",
   "execution_count": null,
   "id": "ecd18e97",
   "metadata": {
    "scrolled": true
   },
   "outputs": [],
   "source": [
    "d, total_hours = map(int, input().split())\n",
    "limits = []\n",
    "for _ in range(d):\n",
    "   min_hours, max_hours = map(int, input().split())\n",
    "   limits.append((min_hours, max_hours))\n",
    "\n",
    "hours = [0]*d\n",
    "for i in range(d):\n",
    "   if total_hours < limits[i][0]:\n",
    "       print('NO')\n",
    "   hours[i] = limits[i][0]\n",
    "   total_hours -= limits[i][0]\n",
    "\n",
    "if total_hours >= 0:\n",
    "   for i in range(d):\n",
    "       if hours[i] < limits[i][1]:\n",
    "           hours[i] += 1\n",
    "           total_hours -= 1\n",
    "   if total_hours == 0:\n",
    "       print('YES')\n",
    "       print(*hours)"
   ]
  },
  {
   "cell_type": "markdown",
   "id": "567cbd8b",
   "metadata": {},
   "source": [
    "#### 2. What is the time complexity (the Big O notation) of your solution? Please provide a detailed explanation of how you calculated the time complexity."
   ]
  },
  {
   "cell_type": "code",
   "execution_count": null,
   "id": "409bb348",
   "metadata": {},
   "outputs": [],
   "source": [
    "Overall time complexity (the Big O notation) of the solution: O(1) + O(d)+ O(d) + O(d)+ O(d)= O(d)\n",
    "\n",
    "Checking the individual time complexities by breaking down the operations:\n",
    "\n",
    "#d, total_hours = map(int, input().split())\n",
    "Reading the input is a constant time operation and has a time complexity of O(1).\n",
    "\n",
    "#limits = []\n",
    "#for _ in range(d):\n",
    "#  min_hours, max_hours = map(int, input().split())\n",
    "#  limits.append((min_hours, max_hours))\n",
    "The next part of code creates a list and appends it with d pairs of integers.\n",
    "It involves a loop that runs d times, so it has a time complexity of O(d).\n",
    "\n",
    "#hours = [0]*d\n",
    "This operation creates a list of d lenght and initializes each element to zero, so it has a time complexity of O(d).\n",
    "\n",
    "#for i in range(d):\n",
    "#  if total_hours < limits[i][0]:\n",
    "#      print('NO')\n",
    "#  hours[i] = limits[i][0]\n",
    "#  total_hours -= limits[i][0]\n",
    "This next loop iterates over a range of d days. Each iteration involves a constant number of operations and the time complexity is O(d).\n",
    "\n",
    "#if total_hours >= 0:\n",
    "#  for i in range(d):\n",
    "#      if hours[i] < limits[i][1]:\n",
    "#          hours[i] += 1\n",
    "#          total_hours -= 1\n",
    "#  if total_hours == 0:\n",
    "#      print('YES')\n",
    "#      print(*hours)\n",
    "Like the one from before, this loop iterates over a range of d days. Each iteration involves constant time operations and the time complexity is also O(d)."
   ]
  },
  {
   "cell_type": "markdown",
   "id": "d309bb42",
   "metadata": {},
   "source": [
    "#### 3. Ask ChatGPT or any other LLM chatbot tool to check your code's time complexity (the Big O notation). Compare your answer to theirs. Do you believe this is correct? If the two differ, which one is right? (why?)"
   ]
  },
  {
   "cell_type": "code",
   "execution_count": null,
   "id": "cd1efbd8",
   "metadata": {},
   "outputs": [],
   "source": [
    "ChatGPT had a different breakdown of the solutions time complexity, but the calcuations and result is the same: O(d).\n",
    "\n",
    "- Reading input: The first line reads two integers, which takes constant time. The loop that follows reads d pairs of integers, which has a time complexity of O(d).\n",
    "- Initializing the hours list: This operation has a time complexity of O(d) since it involves creating a list of length d and initializing each element to zero.\n",
    "- First loop (for i in range(d)): This loop iterates over the range of days (d). Each iteration involves a constant number of operations (assignments and condition checks) and does not depend on the size of the input. Therefore, the time complexity of this loop is O(d).\n",
    "- Second loop (for i in range(d)): Similar to the first loop, it iterates over the range of days (d). Each iteration involves constant time operations. The time complexity of this loop is also O(d).\n",
    "So, the overall time complexity of the provided code is O(d), where d is the number of days."
   ]
  },
  {
   "cell_type": "markdown",
   "id": "7ad88d51",
   "metadata": {},
   "source": [
    "#### 4. What do you think of the optimality of your code? Do you believe it is optimal? Can you improve? Please elaborate on your response."
   ]
  },
  {
   "cell_type": "code",
   "execution_count": null,
   "id": "62364fc0",
   "metadata": {},
   "outputs": [],
   "source": [
    "Given the task, I believe the solution code to be optimal. However, impovements could be made regarding readability and efficiency. The assignment of minimum hours and additional hours could be combined into the same loops. Another improvement could consist of using list comprehension when creating the limits list."
   ]
  }
 ],
 "metadata": {
  "kernelspec": {
   "display_name": "Python 3 (ipykernel)",
   "language": "python",
   "name": "python3"
  },
  "language_info": {
   "codemirror_mode": {
    "name": "ipython",
    "version": 3
   },
   "file_extension": ".py",
   "mimetype": "text/x-python",
   "name": "python",
   "nbconvert_exporter": "python",
   "pygments_lexer": "ipython3",
   "version": "3.11.5"
  }
 },
 "nbformat": 4,
 "nbformat_minor": 5
}
