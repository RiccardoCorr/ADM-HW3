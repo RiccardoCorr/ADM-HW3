{
  "cells": [
    {
      "cell_type": "markdown",
      "metadata": {},
      "source": [
        "Importing my engine.py file\n",
        "\n",
        "Note: instead of mentioning how each function, which has been imported from engine.p, works, engine.py is well commented and easy to read! Kindly check it out in parallel. "
      ]
    },
    {
      "cell_type": "code",
      "execution_count": 1,
      "metadata": {
        "id": "ZlhnuCyBdrMv"
      },
      "outputs": [
        {
          "name": "stderr",
          "output_type": "stream",
          "text": [
            "[nltk_data] Downloading package punkt to /Users/saifdev/nltk_data...\n",
            "[nltk_data]   Package punkt is already up-to-date!\n",
            "[nltk_data] Downloading package stopwords to\n",
            "[nltk_data]     /Users/saifdev/nltk_data...\n",
            "[nltk_data]   Package stopwords is already up-to-date!\n"
          ]
        }
      ],
      "source": [
        "from engine import *"
      ]
    },
    {
      "cell_type": "markdown",
      "metadata": {},
      "source": [
        "First, I will load all (approximately) 6000 tsv files into one final dataset."
      ]
    },
    {
      "cell_type": "code",
      "execution_count": 2,
      "metadata": {
        "id": "w3Wb5xc1dr0d"
      },
      "outputs": [],
      "source": [
        "directory = \"/Users/saifdev/Desktop/ADMHW3/files_tsv\"\n",
        "output_file = \"/Users/saifdev/Desktop/ADMHW3/compiled.tsv\"\n",
        "dataset = create_store_tsv(directory, output_file)"
      ]
    },
    {
      "cell_type": "markdown",
      "metadata": {},
      "source": [
        "Now, I will make a copy to protect the original dataset"
      ]
    },
    {
      "cell_type": "code",
      "execution_count": 3,
      "metadata": {
        "colab": {
          "base_uri": "https://localhost:8080/",
          "height": 372
        },
        "id": "3P3GSMQgiG2Z",
        "outputId": "174f2c89-120a-4704-9545-5cf3ac054955"
      },
      "outputs": [
        {
          "data": {
            "text/html": [
              "<div>\n",
              "<style scoped>\n",
              "    .dataframe tbody tr th:only-of-type {\n",
              "        vertical-align: middle;\n",
              "    }\n",
              "\n",
              "    .dataframe tbody tr th {\n",
              "        vertical-align: top;\n",
              "    }\n",
              "\n",
              "    .dataframe thead th {\n",
              "        text-align: right;\n",
              "    }\n",
              "</style>\n",
              "<table border=\"1\" class=\"dataframe\">\n",
              "  <thead>\n",
              "    <tr style=\"text-align: right;\">\n",
              "      <th></th>\n",
              "      <th>courseName</th>\n",
              "      <th>universityName</th>\n",
              "      <th>facultyName</th>\n",
              "      <th>isItFullTime</th>\n",
              "      <th>description</th>\n",
              "      <th>startDate</th>\n",
              "      <th>fees</th>\n",
              "      <th>modality</th>\n",
              "      <th>duration</th>\n",
              "      <th>city</th>\n",
              "      <th>country</th>\n",
              "      <th>administration</th>\n",
              "      <th>url</th>\n",
              "    </tr>\n",
              "  </thead>\n",
              "  <tbody>\n",
              "    <tr>\n",
              "      <th>0</th>\n",
              "      <td>Master's of Front-end Development</td>\n",
              "      <td>Harbour.Space University</td>\n",
              "      <td>Masters Programmes</td>\n",
              "      <td>Full time</td>\n",
              "      <td>Front-end DevelopmentatHarbour.Space Universit...</td>\n",
              "      <td>September, January</td>\n",
              "      <td>€29,900/year</td>\n",
              "      <td>MSc</td>\n",
              "      <td>1 year</td>\n",
              "      <td>Barcelona</td>\n",
              "      <td>Spain</td>\n",
              "      <td>On Campus</td>\n",
              "      <td>www.findamasters.com/masters-degrees/course/ma...</td>\n",
              "    </tr>\n",
              "    <tr>\n",
              "      <th>1</th>\n",
              "      <td>IMETE</td>\n",
              "      <td>IHE Delft Institute for Water Education</td>\n",
              "      <td>Graduate School</td>\n",
              "      <td>Full time</td>\n",
              "      <td>IMETEis a joint MSc programme with a duration ...</td>\n",
              "      <td>September</td>\n",
              "      <td>€18,000.00 total for 2-year programme, to be p...</td>\n",
              "      <td>MSc</td>\n",
              "      <td>2 Years Full Time</td>\n",
              "      <td>Delft</td>\n",
              "      <td>Netherlands</td>\n",
              "      <td>On Campus</td>\n",
              "      <td>www.findamasters.com/masters-degrees/course/im...</td>\n",
              "    </tr>\n",
              "    <tr>\n",
              "      <th>2</th>\n",
              "      <td>Clinical Neuropsychology - MSc</td>\n",
              "      <td>University of Bristol</td>\n",
              "      <td>Faculty of Life Sciences</td>\n",
              "      <td>Full time&amp;Part time</td>\n",
              "      <td>Professional programmes in Clinical Neuropsych...</td>\n",
              "      <td>September, January</td>\n",
              "      <td>Please see the university website for further ...</td>\n",
              "      <td>MSc</td>\n",
              "      <td>1 year full-time, 2-3 years part-time</td>\n",
              "      <td>Bristol</td>\n",
              "      <td>United Kingdom</td>\n",
              "      <td>On Campus</td>\n",
              "      <td>www.findamasters.com/masters-degrees/course/cl...</td>\n",
              "    </tr>\n",
              "  </tbody>\n",
              "</table>\n",
              "</div>"
            ],
            "text/plain": [
              "                          courseName                           universityName  \\\n",
              "0  Master's of Front-end Development                 Harbour.Space University   \n",
              "1                              IMETE  IHE Delft Institute for Water Education   \n",
              "2     Clinical Neuropsychology - MSc                    University of Bristol   \n",
              "\n",
              "                facultyName         isItFullTime  \\\n",
              "0        Masters Programmes            Full time   \n",
              "1           Graduate School            Full time   \n",
              "2  Faculty of Life Sciences  Full time&Part time   \n",
              "\n",
              "                                         description           startDate  \\\n",
              "0  Front-end DevelopmentatHarbour.Space Universit...  September, January   \n",
              "1  IMETEis a joint MSc programme with a duration ...           September   \n",
              "2  Professional programmes in Clinical Neuropsych...  September, January   \n",
              "\n",
              "                                                fees modality  \\\n",
              "0                                       €29,900/year      MSc   \n",
              "1  €18,000.00 total for 2-year programme, to be p...      MSc   \n",
              "2  Please see the university website for further ...      MSc   \n",
              "\n",
              "                                duration       city         country  \\\n",
              "0                                 1 year  Barcelona           Spain   \n",
              "1                      2 Years Full Time      Delft     Netherlands   \n",
              "2  1 year full-time, 2-3 years part-time    Bristol  United Kingdom   \n",
              "\n",
              "  administration                                                url  \n",
              "0      On Campus  www.findamasters.com/masters-degrees/course/ma...  \n",
              "1      On Campus  www.findamasters.com/masters-degrees/course/im...  \n",
              "2      On Campus  www.findamasters.com/masters-degrees/course/cl...  "
            ]
          },
          "execution_count": 3,
          "metadata": {},
          "output_type": "execute_result"
        }
      ],
      "source": [
        "df = dataset.copy()\n",
        "df.head(3)"
      ]
    },
    {
      "cell_type": "markdown",
      "metadata": {},
      "source": [
        "As we will be working with the description column first I will check the number of missing value. If there are, I will replace them with \"NA\"."
      ]
    },
    {
      "cell_type": "code",
      "execution_count": 4,
      "metadata": {},
      "outputs": [],
      "source": [
        "df.description.isnull().sum() # outputs 21\n",
        "df['description'].fillna(\"NA\", inplace=True)"
      ]
    },
    {
      "cell_type": "markdown",
      "metadata": {
        "id": "G6hrdjIalVhV"
      },
      "source": [
        "# 2. Search Engine\n",
        "## 2.0.0 Preprocessing the text\n",
        "First, you must pre-process all the information collected for each MSc by:\n",
        "\n",
        "  * Removing stopwords\n",
        "  * Removing punctuation\n",
        "  * Stemming\n",
        "  * Anything else you think it's needed\n"
      ]
    },
    {
      "cell_type": "markdown",
      "metadata": {
        "id": "sq2YPzszSkUD"
      },
      "source": [
        "Now, as the dataset is loaded, I will apply some preprocessing to all columns. This pre-processing includes, tokenizing, standardazing the text (lower case and removing stop words), and stemming the text of all columns."
      ]
    },
    {
      "cell_type": "code",
      "execution_count": 5,
      "metadata": {
        "id": "9PyVTobdp1BU"
      },
      "outputs": [],
      "source": [
        "desired_columns = [x for x in df.columns if x != \"fees\"]\n",
        "for column in desired_columns:\n",
        "    df[column+\"_clean\"] = df[column].apply(lambda x: preprocessing(x))"
      ]
    },
    {
      "cell_type": "code",
      "execution_count": 6,
      "metadata": {
        "colab": {
          "base_uri": "https://localhost:8080/",
          "height": 603
        },
        "id": "SXvxsgCwg3v7",
        "outputId": "70678fbd-0200-4f12-ee6e-24ba85f8a162"
      },
      "outputs": [
        {
          "data": {
            "text/html": [
              "<div>\n",
              "<style scoped>\n",
              "    .dataframe tbody tr th:only-of-type {\n",
              "        vertical-align: middle;\n",
              "    }\n",
              "\n",
              "    .dataframe tbody tr th {\n",
              "        vertical-align: top;\n",
              "    }\n",
              "\n",
              "    .dataframe thead th {\n",
              "        text-align: right;\n",
              "    }\n",
              "</style>\n",
              "<table border=\"1\" class=\"dataframe\">\n",
              "  <thead>\n",
              "    <tr style=\"text-align: right;\">\n",
              "      <th></th>\n",
              "      <th>courseName</th>\n",
              "      <th>universityName</th>\n",
              "      <th>facultyName</th>\n",
              "      <th>isItFullTime</th>\n",
              "      <th>description</th>\n",
              "      <th>startDate</th>\n",
              "      <th>fees</th>\n",
              "      <th>modality</th>\n",
              "      <th>duration</th>\n",
              "      <th>city</th>\n",
              "      <th>...</th>\n",
              "      <th>facultyName_clean</th>\n",
              "      <th>isItFullTime_clean</th>\n",
              "      <th>description_clean</th>\n",
              "      <th>startDate_clean</th>\n",
              "      <th>modality_clean</th>\n",
              "      <th>duration_clean</th>\n",
              "      <th>city_clean</th>\n",
              "      <th>country_clean</th>\n",
              "      <th>administration_clean</th>\n",
              "      <th>url_clean</th>\n",
              "    </tr>\n",
              "  </thead>\n",
              "  <tbody>\n",
              "    <tr>\n",
              "      <th>0</th>\n",
              "      <td>Master's of Front-end Development</td>\n",
              "      <td>Harbour.Space University</td>\n",
              "      <td>Masters Programmes</td>\n",
              "      <td>Full time</td>\n",
              "      <td>Front-end DevelopmentatHarbour.Space Universit...</td>\n",
              "      <td>September, January</td>\n",
              "      <td>€29,900/year</td>\n",
              "      <td>MSc</td>\n",
              "      <td>1 year</td>\n",
              "      <td>Barcelona</td>\n",
              "      <td>...</td>\n",
              "      <td>[master, programm]</td>\n",
              "      <td>[full, time]</td>\n",
              "      <td>[front, end, developmentatharbour, space, univ...</td>\n",
              "      <td>[septemb, januari]</td>\n",
              "      <td>[msc]</td>\n",
              "      <td>[year]</td>\n",
              "      <td>[barcelona]</td>\n",
              "      <td>[spain]</td>\n",
              "      <td>[campu]</td>\n",
              "      <td>[www, findamast, com, master, degre, cours, ma...</td>\n",
              "    </tr>\n",
              "    <tr>\n",
              "      <th>1</th>\n",
              "      <td>IMETE</td>\n",
              "      <td>IHE Delft Institute for Water Education</td>\n",
              "      <td>Graduate School</td>\n",
              "      <td>Full time</td>\n",
              "      <td>IMETEis a joint MSc programme with a duration ...</td>\n",
              "      <td>September</td>\n",
              "      <td>€18,000.00 total for 2-year programme, to be p...</td>\n",
              "      <td>MSc</td>\n",
              "      <td>2 Years Full Time</td>\n",
              "      <td>Delft</td>\n",
              "      <td>...</td>\n",
              "      <td>[graduat, school]</td>\n",
              "      <td>[full, time]</td>\n",
              "      <td>[imetei, joint, msc, programm, durat, month, o...</td>\n",
              "      <td>[septemb]</td>\n",
              "      <td>[msc]</td>\n",
              "      <td>[year, full, time]</td>\n",
              "      <td>[delft]</td>\n",
              "      <td>[netherland]</td>\n",
              "      <td>[campu]</td>\n",
              "      <td>[www, findamast, com, master, degre, cours, imet]</td>\n",
              "    </tr>\n",
              "    <tr>\n",
              "      <th>2</th>\n",
              "      <td>Clinical Neuropsychology - MSc</td>\n",
              "      <td>University of Bristol</td>\n",
              "      <td>Faculty of Life Sciences</td>\n",
              "      <td>Full time&amp;Part time</td>\n",
              "      <td>Professional programmes in Clinical Neuropsych...</td>\n",
              "      <td>September, January</td>\n",
              "      <td>Please see the university website for further ...</td>\n",
              "      <td>MSc</td>\n",
              "      <td>1 year full-time, 2-3 years part-time</td>\n",
              "      <td>Bristol</td>\n",
              "      <td>...</td>\n",
              "      <td>[faculti, life, scienc]</td>\n",
              "      <td>[full, time, part, time]</td>\n",
              "      <td>[profession, programm, clinic, neuropsycholog,...</td>\n",
              "      <td>[septemb, januari]</td>\n",
              "      <td>[msc]</td>\n",
              "      <td>[year, full, time, year, part, time]</td>\n",
              "      <td>[bristol]</td>\n",
              "      <td>[unit, kingdom]</td>\n",
              "      <td>[campu]</td>\n",
              "      <td>[www, findamast, com, master, degre, cours, cl...</td>\n",
              "    </tr>\n",
              "    <tr>\n",
              "      <th>3</th>\n",
              "      <td>Demography and Social Inequality - Double Masters</td>\n",
              "      <td>University of Cologne</td>\n",
              "      <td>Faculty of Management, Economics and Social Sc...</td>\n",
              "      <td>Full time</td>\n",
              "      <td>The Double Master's Programme in Demography an...</td>\n",
              "      <td>October</td>\n",
              "      <td>At the University of Cologne there are no tuit...</td>\n",
              "      <td>MSc,Other</td>\n",
              "      <td>2 years full time</td>\n",
              "      <td>Cologne</td>\n",
              "      <td>...</td>\n",
              "      <td>[faculti, manag, econom, social, scienc]</td>\n",
              "      <td>[full, time]</td>\n",
              "      <td>[doubl, programm, demographi, social, inequ, g...</td>\n",
              "      <td>[octob]</td>\n",
              "      <td>[msc]</td>\n",
              "      <td>[year, full, time]</td>\n",
              "      <td>[cologn]</td>\n",
              "      <td>[germani]</td>\n",
              "      <td>[campu]</td>\n",
              "      <td>[www, findamast, com, master, degre, cours, de...</td>\n",
              "    </tr>\n",
              "    <tr>\n",
              "      <th>4</th>\n",
              "      <td>MSc Finance and Investment Management</td>\n",
              "      <td>University of Liverpool</td>\n",
              "      <td>Liverpool Online Programmes</td>\n",
              "      <td>Part time</td>\n",
              "      <td>A career in finance and investment management ...</td>\n",
              "      <td>January, May</td>\n",
              "      <td>Fees for the academic year 2022/23MSc: £15,300...</td>\n",
              "      <td>MSc,PGCert,PGDip</td>\n",
              "      <td>2.5 years</td>\n",
              "      <td>Liverpool</td>\n",
              "      <td>...</td>\n",
              "      <td>[liverpool, onlin, programm]</td>\n",
              "      <td>[part, time]</td>\n",
              "      <td>[career, financ, invest, manag, thrill, reward...</td>\n",
              "      <td>[januari, may]</td>\n",
              "      <td>[msc, pgcert, pgdip]</td>\n",
              "      <td>[year]</td>\n",
              "      <td>[liverpool]</td>\n",
              "      <td>[unit, kingdom]</td>\n",
              "      <td>[onlin]</td>\n",
              "      <td>[www, findamast, com, master, degre, cours, ms...</td>\n",
              "    </tr>\n",
              "  </tbody>\n",
              "</table>\n",
              "<p>5 rows × 25 columns</p>\n",
              "</div>"
            ],
            "text/plain": [
              "                                          courseName  \\\n",
              "0                  Master's of Front-end Development   \n",
              "1                                              IMETE   \n",
              "2                     Clinical Neuropsychology - MSc   \n",
              "3  Demography and Social Inequality - Double Masters   \n",
              "4              MSc Finance and Investment Management   \n",
              "\n",
              "                            universityName  \\\n",
              "0                 Harbour.Space University   \n",
              "1  IHE Delft Institute for Water Education   \n",
              "2                    University of Bristol   \n",
              "3                    University of Cologne   \n",
              "4                  University of Liverpool   \n",
              "\n",
              "                                         facultyName         isItFullTime  \\\n",
              "0                                 Masters Programmes            Full time   \n",
              "1                                    Graduate School            Full time   \n",
              "2                           Faculty of Life Sciences  Full time&Part time   \n",
              "3  Faculty of Management, Economics and Social Sc...            Full time   \n",
              "4                        Liverpool Online Programmes            Part time   \n",
              "\n",
              "                                         description           startDate  \\\n",
              "0  Front-end DevelopmentatHarbour.Space Universit...  September, January   \n",
              "1  IMETEis a joint MSc programme with a duration ...           September   \n",
              "2  Professional programmes in Clinical Neuropsych...  September, January   \n",
              "3  The Double Master's Programme in Demography an...             October   \n",
              "4  A career in finance and investment management ...        January, May   \n",
              "\n",
              "                                                fees          modality  \\\n",
              "0                                       €29,900/year               MSc   \n",
              "1  €18,000.00 total for 2-year programme, to be p...               MSc   \n",
              "2  Please see the university website for further ...               MSc   \n",
              "3  At the University of Cologne there are no tuit...         MSc,Other   \n",
              "4  Fees for the academic year 2022/23MSc: £15,300...  MSc,PGCert,PGDip   \n",
              "\n",
              "                                duration       city  ...  \\\n",
              "0                                 1 year  Barcelona  ...   \n",
              "1                      2 Years Full Time      Delft  ...   \n",
              "2  1 year full-time, 2-3 years part-time    Bristol  ...   \n",
              "3                      2 years full time    Cologne  ...   \n",
              "4                              2.5 years  Liverpool  ...   \n",
              "\n",
              "                          facultyName_clean        isItFullTime_clean  \\\n",
              "0                        [master, programm]              [full, time]   \n",
              "1                         [graduat, school]              [full, time]   \n",
              "2                   [faculti, life, scienc]  [full, time, part, time]   \n",
              "3  [faculti, manag, econom, social, scienc]              [full, time]   \n",
              "4              [liverpool, onlin, programm]              [part, time]   \n",
              "\n",
              "                                   description_clean     startDate_clean  \\\n",
              "0  [front, end, developmentatharbour, space, univ...  [septemb, januari]   \n",
              "1  [imetei, joint, msc, programm, durat, month, o...           [septemb]   \n",
              "2  [profession, programm, clinic, neuropsycholog,...  [septemb, januari]   \n",
              "3  [doubl, programm, demographi, social, inequ, g...             [octob]   \n",
              "4  [career, financ, invest, manag, thrill, reward...      [januari, may]   \n",
              "\n",
              "         modality_clean                        duration_clean   city_clean  \\\n",
              "0                 [msc]                                [year]  [barcelona]   \n",
              "1                 [msc]                    [year, full, time]      [delft]   \n",
              "2                 [msc]  [year, full, time, year, part, time]    [bristol]   \n",
              "3                 [msc]                    [year, full, time]     [cologn]   \n",
              "4  [msc, pgcert, pgdip]                                [year]  [liverpool]   \n",
              "\n",
              "     country_clean administration_clean  \\\n",
              "0          [spain]              [campu]   \n",
              "1     [netherland]              [campu]   \n",
              "2  [unit, kingdom]              [campu]   \n",
              "3        [germani]              [campu]   \n",
              "4  [unit, kingdom]              [onlin]   \n",
              "\n",
              "                                           url_clean  \n",
              "0  [www, findamast, com, master, degre, cours, ma...  \n",
              "1  [www, findamast, com, master, degre, cours, imet]  \n",
              "2  [www, findamast, com, master, degre, cours, cl...  \n",
              "3  [www, findamast, com, master, degre, cours, de...  \n",
              "4  [www, findamast, com, master, degre, cours, ms...  \n",
              "\n",
              "[5 rows x 25 columns]"
            ]
          },
          "execution_count": 6,
          "metadata": {},
          "output_type": "execute_result"
        }
      ],
      "source": [
        "df.head()"
      ]
    },
    {
      "cell_type": "markdown",
      "metadata": {},
      "source": [
        "Now, it is time to do some preprocssing with the fees column. We have to ensure that all the fees are in Euro (decided) and the column is of dtype float. So, let's do it!\n",
        "\n",
        "First, I will replace all the entries that are prompting to contact the university or visit webpage. Then, I will see what currency symbols have been used through out the dataset so that I can desing my regex accordingly."
      ]
    },
    {
      "cell_type": "code",
      "execution_count": 7,
      "metadata": {
        "id": "Io4gD25qRSm5"
      },
      "outputs": [
        {
          "data": {
            "text/plain": [
              "['€', '£', '$']"
            ]
          },
          "execution_count": 7,
          "metadata": {},
          "output_type": "execute_result"
        }
      ],
      "source": [
        "if_website_or_contact_replace(df, \"fees\")\n",
        "df[\"fees_clean\"] = df[\"fees_clean\"].apply(lambda x: \"Not Available\" if pd.isnull(x) else x)\n",
        "symbols_list = extract_symbols(df)\n",
        "symbols_list"
      ]
    },
    {
      "cell_type": "markdown",
      "metadata": {},
      "source": [
        "Now, from all of the text in each row of the \"fees\" column, I will only keep the max amount and the currency name."
      ]
    },
    {
      "cell_type": "code",
      "execution_count": 8,
      "metadata": {
        "colab": {
          "base_uri": "https://localhost:8080/",
          "height": 424
        },
        "id": "Eiklq_QhCAoW",
        "outputId": "d3594084-0aa1-4198-fa68-a4d46a6ba530"
      },
      "outputs": [
        {
          "data": {
            "text/html": [
              "<div>\n",
              "<style scoped>\n",
              "    .dataframe tbody tr th:only-of-type {\n",
              "        vertical-align: middle;\n",
              "    }\n",
              "\n",
              "    .dataframe tbody tr th {\n",
              "        vertical-align: top;\n",
              "    }\n",
              "\n",
              "    .dataframe thead th {\n",
              "        text-align: right;\n",
              "    }\n",
              "</style>\n",
              "<table border=\"1\" class=\"dataframe\">\n",
              "  <thead>\n",
              "    <tr style=\"text-align: right;\">\n",
              "      <th></th>\n",
              "      <th>fees</th>\n",
              "      <th>fees_clean</th>\n",
              "    </tr>\n",
              "  </thead>\n",
              "  <tbody>\n",
              "    <tr>\n",
              "      <th>0</th>\n",
              "      <td>€29,900/year</td>\n",
              "      <td>29900.0 EUR</td>\n",
              "    </tr>\n",
              "    <tr>\n",
              "      <th>1</th>\n",
              "      <td>€18,000.00 total for 2-year programme, to be p...</td>\n",
              "      <td>18000.0 EUR</td>\n",
              "    </tr>\n",
              "    <tr>\n",
              "      <th>2</th>\n",
              "      <td>Please see the university website for further ...</td>\n",
              "      <td>Not Available</td>\n",
              "    </tr>\n",
              "    <tr>\n",
              "      <th>3</th>\n",
              "      <td>At the University of Cologne there are no tuit...</td>\n",
              "      <td>300.0 EUR</td>\n",
              "    </tr>\n",
              "    <tr>\n",
              "      <th>4</th>\n",
              "      <td>Fees for the academic year 2022/23MSc: £15,300...</td>\n",
              "      <td>16065.0 GBP</td>\n",
              "    </tr>\n",
              "    <tr>\n",
              "      <th>...</th>\n",
              "      <td>...</td>\n",
              "      <td>...</td>\n",
              "    </tr>\n",
              "    <tr>\n",
              "      <th>5995</th>\n",
              "      <td>Full time - £14,100Part time - £7,050</td>\n",
              "      <td>14100.0 GBP</td>\n",
              "    </tr>\n",
              "    <tr>\n",
              "      <th>5996</th>\n",
              "      <td>Please see the university website for further ...</td>\n",
              "      <td>Not Available</td>\n",
              "    </tr>\n",
              "    <tr>\n",
              "      <th>5997</th>\n",
              "      <td>Please see the university website for further ...</td>\n",
              "      <td>Not Available</td>\n",
              "    </tr>\n",
              "    <tr>\n",
              "      <th>5998</th>\n",
              "      <td>NaN</td>\n",
              "      <td>Not Available</td>\n",
              "    </tr>\n",
              "    <tr>\n",
              "      <th>5999</th>\n",
              "      <td>Please see the university website for further ...</td>\n",
              "      <td>Not Available</td>\n",
              "    </tr>\n",
              "  </tbody>\n",
              "</table>\n",
              "<p>6000 rows × 2 columns</p>\n",
              "</div>"
            ],
            "text/plain": [
              "                                                   fees     fees_clean\n",
              "0                                          €29,900/year    29900.0 EUR\n",
              "1     €18,000.00 total for 2-year programme, to be p...    18000.0 EUR\n",
              "2     Please see the university website for further ...  Not Available\n",
              "3     At the University of Cologne there are no tuit...      300.0 EUR\n",
              "4     Fees for the academic year 2022/23MSc: £15,300...    16065.0 GBP\n",
              "...                                                 ...            ...\n",
              "5995              Full time - £14,100Part time - £7,050    14100.0 GBP\n",
              "5996  Please see the university website for further ...  Not Available\n",
              "5997  Please see the university website for further ...  Not Available\n",
              "5998                                                NaN  Not Available\n",
              "5999  Please see the university website for further ...  Not Available\n",
              "\n",
              "[6000 rows x 2 columns]"
            ]
          },
          "execution_count": 8,
          "metadata": {},
          "output_type": "execute_result"
        }
      ],
      "source": [
        "df[\"fees_clean\"] = df[\"fees_clean\"].apply(lambda x: extract_numeric_and_currency(x))\n",
        "df.loc[:, [\"fees\",\"fees_clean\"]]"
      ]
    },
    {
      "cell_type": "markdown",
      "metadata": {},
      "source": [
        "Now, I will create two more columns and use these columns to make make a new column FEE_EUR where all the fees are in EUR."
      ]
    },
    {
      "cell_type": "code",
      "execution_count": 11,
      "metadata": {
        "colab": {
          "base_uri": "https://localhost:8080/"
        },
        "id": "GKgIJkt02evQ",
        "outputId": "54111e3c-8499-45c2-b265-e975b0e719b2"
      },
      "outputs": [],
      "source": [
        "# Apply extraction functions to create new columns\n",
        "df['numeric_value'] = df['fees_clean'].apply(extract_numeric_value)\n",
        "df['currency_name'] = df['fees_clean'].apply(extract_currency_name)"
      ]
    },
    {
      "cell_type": "markdown",
      "metadata": {},
      "source": [
        "For the purpose of converting all other currencies to EUR, I will use v6.exchangerate-api.com as suggested by Chat GPT. I have already signed up and acquired my api key. "
      ]
    },
    {
      "cell_type": "code",
      "execution_count": 12,
      "metadata": {},
      "outputs": [],
      "source": [
        "my_api_key = \"086fdd533cda265f02aa74ac\"\n",
        "url = f\"https://v6.exchangerate-api.com/v6/{my_api_key}/latest/EUR\" # to access the url with EUR rates\n",
        "response = requests.get(url) # to get the latest eur to other currencies rates\n",
        "data = response.json() # storing the data in the variable data\n",
        "\n",
        "# Apply the conversion using a lambda function with our pre-defined convert_to_eur function\n",
        "df['FEE_EUR'] = df.apply(lambda row: convert_to_eur(row['numeric_value'], row['currency_name'], data), axis=1)"
      ]
    },
    {
      "cell_type": "markdown",
      "metadata": {},
      "source": [
        "Finally, I will delete the extra columns. Namely: \"fees_clean\", \"numeric_value\", \"currency_name\""
      ]
    },
    {
      "cell_type": "code",
      "execution_count": 13,
      "metadata": {
        "id": "ekNZunW39XqZ"
      },
      "outputs": [],
      "source": [
        "df.columns\n",
        "columns_to_drop = [\"fees_clean\", \"numeric_value\", \"currency_name\"]\n",
        "df = df.drop(columns=columns_to_drop)"
      ]
    },
    {
      "cell_type": "code",
      "execution_count": 14,
      "metadata": {},
      "outputs": [
        {
          "data": {
            "text/plain": [
              "dtype('float64')"
            ]
          },
          "execution_count": 14,
          "metadata": {},
          "output_type": "execute_result"
        }
      ],
      "source": [
        "# Check if the data type of FEE_EUR column is float:\n",
        "df['FEE_EUR'].dtype"
      ]
    },
    {
      "cell_type": "markdown",
      "metadata": {
        "id": "rVW7gc53MJGv"
      },
      "source": [
        "## 2.1. Conjunctive query\n",
        "\n",
        "2.1.1 Create your index!\n",
        "Before building the index,\n",
        "\n",
        "Create a file named vocabulary, in the format you prefer, that maps each word to an integer (term_id)."
      ]
    },
    {
      "cell_type": "code",
      "execution_count": 15,
      "metadata": {
        "id": "qbbThtjJMOEq"
      },
      "outputs": [],
      "source": [
        "vocabulary = set() # set to remove duplicates and efficiency\n",
        "# I will only used the description column as stated in the HW\n",
        "df.description_clean.apply(lambda row: [vocabulary.add(word) for word in row])\n",
        "vocabulary = list(vocabulary)"
      ]
    },
    {
      "cell_type": "markdown",
      "metadata": {},
      "source": [
        "The variable vocabulary contains, in a list, all the words used in the description column. The question requires us to make a file named vocabulary that *maps each word to an integer (term_id).*"
      ]
    },
    {
      "cell_type": "code",
      "execution_count": 16,
      "metadata": {},
      "outputs": [],
      "source": [
        "# maps each word to an integer (term_id)\n",
        "vocab_with_index = dict()\n",
        "unique_id = 0\n",
        "for word in vocabulary:\n",
        "  vocab_with_index[word] = unique_id\n",
        "  unique_id+=1\n",
        "vocab_with_index\n",
        "\n",
        "with open(\"/Users/saifdev/Desktop/ADMHW3/vocabulary.json\", \"w\") as file: # storing for reusability\n",
        "    json.dump(vocab_with_index, file)"
      ]
    },
    {
      "cell_type": "code",
      "execution_count": 17,
      "metadata": {},
      "outputs": [],
      "source": [
        "vocab_with_index = json.load(open(\"/Users/saifdev/Desktop/ADMHW3/vocabulary.json\", \"r\")) # loading for use"
      ]
    },
    {
      "cell_type": "markdown",
      "metadata": {},
      "source": [
        "#### 2.1.1\n",
        "Then, the first brick of your homework is to create the Inverted Index. It will be a dictionary in this format:\n",
        "\n",
        "{\n",
        "term_id_1:[document_1, document_2, document_4],\n",
        "term_id_2:[document_1, document_3, document_5, document_6],\n",
        "...}"
      ]
    },
    {
      "cell_type": "markdown",
      "metadata": {},
      "source": [
        "To create the inverted index, I can use the procedure used in the lab as follows:"
      ]
    },
    {
      "cell_type": "code",
      "execution_count": 18,
      "metadata": {
        "colab": {
          "base_uri": "https://localhost:8080/"
        },
        "id": "9NpcKG7aYaQF",
        "outputId": "45b4024a-880b-4f58-f8c7-7abd7828531a"
      },
      "outputs": [
        {
          "name": "stderr",
          "output_type": "stream",
          "text": [
            "100%|██████████| 9705/9705 [00:44<00:00, 219.97it/s]\n"
          ]
        },
        {
          "data": {
            "text/html": [
              "<div>\n",
              "<style scoped>\n",
              "    .dataframe tbody tr th:only-of-type {\n",
              "        vertical-align: middle;\n",
              "    }\n",
              "\n",
              "    .dataframe tbody tr th {\n",
              "        vertical-align: top;\n",
              "    }\n",
              "\n",
              "    .dataframe thead th {\n",
              "        text-align: right;\n",
              "    }\n",
              "</style>\n",
              "<table border=\"1\" class=\"dataframe\">\n",
              "  <thead>\n",
              "    <tr style=\"text-align: right;\">\n",
              "      <th></th>\n",
              "      <th>Term</th>\n",
              "      <th>reverse</th>\n",
              "    </tr>\n",
              "  </thead>\n",
              "  <tbody>\n",
              "    <tr>\n",
              "      <th>0</th>\n",
              "      <td>unsustain</td>\n",
              "      <td>[1551, 3343, 3671]</td>\n",
              "    </tr>\n",
              "    <tr>\n",
              "      <th>1</th>\n",
              "      <td>huge</td>\n",
              "      <td>[10, 74, 217, 577, 595, 765, 976, 1023, 1167, ...</td>\n",
              "    </tr>\n",
              "    <tr>\n",
              "      <th>2</th>\n",
              "      <td>beneath</td>\n",
              "      <td>[2535]</td>\n",
              "    </tr>\n",
              "    <tr>\n",
              "      <th>3</th>\n",
              "      <td>redesign</td>\n",
              "      <td>[2108, 2354]</td>\n",
              "    </tr>\n",
              "    <tr>\n",
              "      <th>4</th>\n",
              "      <td>b</td>\n",
              "      <td>[127, 148, 453, 1890, 2871, 3581, 3778, 4916, ...</td>\n",
              "    </tr>\n",
              "  </tbody>\n",
              "</table>\n",
              "</div>"
            ],
            "text/plain": [
              "        Term                                            reverse\n",
              "0  unsustain                                 [1551, 3343, 3671]\n",
              "1       huge  [10, 74, 217, 577, 595, 765, 976, 1023, 1167, ...\n",
              "2    beneath                                             [2535]\n",
              "3   redesign                                       [2108, 2354]\n",
              "4          b  [127, 148, 453, 1890, 2871, 3581, 3778, 4916, ..."
            ]
          },
          "execution_count": 18,
          "metadata": {},
          "output_type": "execute_result"
        }
      ],
      "source": [
        "Terms = pd.DataFrame(data=vocab_with_index.keys(), columns=['Term']); tqdm.pandas() # from lab\n",
        "Terms['reverse'] = Terms.Term.progress_apply(lambda item: list(df.loc[df.description_clean.apply(lambda row: item in row)].index))\n",
        "\n",
        "# word_and_appearances help with the search engine and inverted index. It contains as keys the words and as values a list which \n",
        "# represents the occurences of that word in our dataset\n",
        "\n",
        "word_and_appearances = dict(zip(Terms.Term, Terms.reverse)) \n",
        "\n",
        "# The inverted index can also be made as commented below: \n",
        "# inverted_index = dict(zip(Terms.index, Terms['reverse'])); however I will implement my own function\n",
        "Terms.head()"
      ]
    },
    {
      "cell_type": "markdown",
      "metadata": {},
      "source": [
        "OR, I can use the function that I created to make an inverted list. Here's how:"
      ]
    },
    {
      "cell_type": "code",
      "execution_count": 19,
      "metadata": {},
      "outputs": [],
      "source": [
        "inverted_index = inverted_index(vocab_with_index, df)"
      ]
    },
    {
      "cell_type": "markdown",
      "metadata": {},
      "source": [
        "I will now store this inverted index locally"
      ]
    },
    {
      "cell_type": "code",
      "execution_count": 20,
      "metadata": {},
      "outputs": [],
      "source": [
        "with open(\"/Users/saifdev/Desktop/ADMHW3/inverted_index_1.json\", \"w\") as file: # storing for reusability\n",
        "    json.dump(inverted_index, file)\n",
        "inverted_index = json.load(open(\"/Users/saifdev/Desktop/ADMHW3/inverted_index_1.json\", \"r\")) # loading for use"
      ]
    },
    {
      "cell_type": "markdown",
      "metadata": {},
      "source": [
        "2.1.2) Execute the query\n",
        "Given a query input by the user, for example:\n",
        "\n",
        "advanced knowledge\n",
        "\n",
        "The Search Engine is supposed to return a list of documents."
      ]
    },
    {
      "cell_type": "markdown",
      "metadata": {},
      "source": [
        "For this task, I will first take the input from the user and then normalize the query using the same technique I used to preprocess the description column."
      ]
    },
    {
      "cell_type": "code",
      "execution_count": 21,
      "metadata": {},
      "outputs": [],
      "source": [
        "user_input = input(\"Add your Input\")\n",
        "normalized_query = normalize_query(user_input)"
      ]
    },
    {
      "cell_type": "markdown",
      "metadata": {},
      "source": [
        "Instead of using the inverted index which has the term_id and a list of where it appears in the document, I will use a related inverted index, which I created above with name word_and_appearances which contains words as keys and list of places they occur in the document as values."
      ]
    },
    {
      "cell_type": "code",
      "execution_count": 22,
      "metadata": {},
      "outputs": [
        {
          "data": {
            "text/html": [
              "<div>\n",
              "<style scoped>\n",
              "    .dataframe tbody tr th:only-of-type {\n",
              "        vertical-align: middle;\n",
              "    }\n",
              "\n",
              "    .dataframe tbody tr th {\n",
              "        vertical-align: top;\n",
              "    }\n",
              "\n",
              "    .dataframe thead th {\n",
              "        text-align: right;\n",
              "    }\n",
              "</style>\n",
              "<table border=\"1\" class=\"dataframe\">\n",
              "  <thead>\n",
              "    <tr style=\"text-align: right;\">\n",
              "      <th></th>\n",
              "      <th>courseName</th>\n",
              "      <th>universityName</th>\n",
              "      <th>description</th>\n",
              "      <th>url</th>\n",
              "    </tr>\n",
              "  </thead>\n",
              "  <tbody>\n",
              "    <tr>\n",
              "      <th>0</th>\n",
              "      <td>Clinical Neuropsychology - MSc</td>\n",
              "      <td>University of Bristol</td>\n",
              "      <td>Professional programmes in Clinical Neuropsych...</td>\n",
              "      <td>www.findamasters.com/masters-degrees/course/cl...</td>\n",
              "    </tr>\n",
              "    <tr>\n",
              "      <th>1</th>\n",
              "      <td>MSc In People Analytics</td>\n",
              "      <td>University of Hull</td>\n",
              "      <td>Start date: January 2024Play an essential role...</td>\n",
              "      <td>www.findamasters.com/masters-degrees/course/ms...</td>\n",
              "    </tr>\n",
              "    <tr>\n",
              "      <th>2</th>\n",
              "      <td>Master of Science in Professional Nursing</td>\n",
              "      <td>Atlantic Technological University</td>\n",
              "      <td>The programme provides the nurse with a broad-...</td>\n",
              "      <td>www.findamasters.com/masters-degrees/course/ma...</td>\n",
              "    </tr>\n",
              "    <tr>\n",
              "      <th>3</th>\n",
              "      <td>Data, Inequality and Society MSc, PgDip (ICL),...</td>\n",
              "      <td>University of Edinburgh</td>\n",
              "      <td>Programme descriptionAn interdisciplinary degr...</td>\n",
              "      <td>www.findamasters.com/masters-degrees/course/da...</td>\n",
              "    </tr>\n",
              "    <tr>\n",
              "      <th>4</th>\n",
              "      <td>Digital Design and Branding MSc</td>\n",
              "      <td>Brunel University London</td>\n",
              "      <td>Ask BrunelOur Digital Design and Branding MSc ...</td>\n",
              "      <td>www.findamasters.com/masters-degrees/course/di...</td>\n",
              "    </tr>\n",
              "  </tbody>\n",
              "</table>\n",
              "</div>"
            ],
            "text/plain": [
              "                                          courseName  \\\n",
              "0                     Clinical Neuropsychology - MSc   \n",
              "1                            MSc In People Analytics   \n",
              "2          Master of Science in Professional Nursing   \n",
              "3  Data, Inequality and Society MSc, PgDip (ICL),...   \n",
              "4                    Digital Design and Branding MSc   \n",
              "\n",
              "                      universityName  \\\n",
              "0              University of Bristol   \n",
              "1                 University of Hull   \n",
              "2  Atlantic Technological University   \n",
              "3            University of Edinburgh   \n",
              "4           Brunel University London   \n",
              "\n",
              "                                         description  \\\n",
              "0  Professional programmes in Clinical Neuropsych...   \n",
              "1  Start date: January 2024Play an essential role...   \n",
              "2  The programme provides the nurse with a broad-...   \n",
              "3  Programme descriptionAn interdisciplinary degr...   \n",
              "4  Ask BrunelOur Digital Design and Branding MSc ...   \n",
              "\n",
              "                                                 url  \n",
              "0  www.findamasters.com/masters-degrees/course/cl...  \n",
              "1  www.findamasters.com/masters-degrees/course/ms...  \n",
              "2  www.findamasters.com/masters-degrees/course/ma...  \n",
              "3  www.findamasters.com/masters-degrees/course/da...  \n",
              "4  www.findamasters.com/masters-degrees/course/di...  "
            ]
          },
          "execution_count": 22,
          "metadata": {},
          "output_type": "execute_result"
        }
      ],
      "source": [
        "new_dataset = search_engine(normalized_query, df, word_and_appearances).head()\n",
        "new_dataset"
      ]
    },
    {
      "cell_type": "markdown",
      "metadata": {},
      "source": [
        "## 2.2) Conjunctive query & Ranking score\n",
        "\n",
        "For the second search engine, given a query, we want to get the top-k (the choice of k it's up to you!) documents related to the query. In particular:\n",
        "\n",
        "Find all the documents that contain all the words in the query. Sort them by their similarity with the query.\n",
        "\n",
        "Return in output k documents, or all the documents with non-zero similarity with the query when the results are less than k. You must use a heap data structure (you can use Python libraries) for maintaining the top-k documents.\n",
        "\n",
        "To solve this task, you must use the tfIdf score and the Cosine similarity. The field to consider is still the description.\n",
        "\n",
        "##### 2.2.1) Make an Inverted index"
      ]
    },
    {
      "cell_type": "markdown",
      "metadata": {},
      "source": [
        "Below, I will make an inverted index which contains as keys the unique term_id of the word, and as values, its corresponding occurences and tf-idf values in the dataset's row."
      ]
    },
    {
      "cell_type": "code",
      "execution_count": 23,
      "metadata": {},
      "outputs": [],
      "source": [
        "# Our inverted_index with tf-idf value as well.\n",
        "inverted_index_tf_idf = inverted_index_tfidf(word_and_appearances, df)"
      ]
    },
    {
      "cell_type": "code",
      "execution_count": 24,
      "metadata": {},
      "outputs": [],
      "source": [
        "with open(\"/Users/saifdev/Desktop/ADMHW3/inverted_index_tfidf.json\", \"w\") as file: # storing for reusability\n",
        "    json.dump(inverted_index, file)\n",
        "inverted_index = json.load(open(\"/Users/saifdev/Desktop/ADMHW3/inverted_index_tfidf.json\", \"r\")) # loading for use"
      ]
    },
    {
      "cell_type": "markdown",
      "metadata": {},
      "source": [
        "#### 2.2.2) Execute the query\n",
        "In this new setting, given a query, you get the proper documents (i.e., those containing all the query's words) and sort them according to their similarity to the query. For this purpose, as the scoring function, we will use the Cosine Similarity concerning the tfIdf representations of the documents."
      ]
    },
    {
      "cell_type": "markdown",
      "metadata": {},
      "source": [
        "First, I will take the user input and normalize it."
      ]
    },
    {
      "cell_type": "code",
      "execution_count": 25,
      "metadata": {},
      "outputs": [],
      "source": [
        "user_input = input(\"Add your Input\")\n",
        "normalized_query = normalize_query(user_input)"
      ]
    },
    {
      "cell_type": "markdown",
      "metadata": {},
      "source": [
        "Time to compute and get the TF-IDF scores for our query:"
      ]
    },
    {
      "cell_type": "code",
      "execution_count": 26,
      "metadata": {},
      "outputs": [
        {
          "data": {
            "text/plain": [
              "{'advanc': 0.84, 'knowledg': 0.57}"
            ]
          },
          "execution_count": 26,
          "metadata": {},
          "output_type": "execute_result"
        }
      ],
      "source": [
        "query_tfidf = calculate_query_tfidf(normalized_query, word_and_appearances, df)\n",
        "query_tfidf"
      ]
    },
    {
      "cell_type": "markdown",
      "metadata": {},
      "source": [
        "I will now compute the intersection list of query and documents."
      ]
    },
    {
      "cell_type": "code",
      "execution_count": 27,
      "metadata": {},
      "outputs": [],
      "source": [
        "appearances = list()\n",
        "[appearances.append(word_and_appearances[word]) for word in normalized_query]\n",
        "# initialising the set with the value of the first list of appearances in the list of appearances of the word\n",
        "intersection_list = set(appearances[0])\n",
        "for appearance in appearances[1:]: # for the rest of the terms in the list of term ids\n",
        "    intersection_list.intersection_update(appearance)\n",
        "intersection_list = sorted(list(intersection_list))"
      ]
    },
    {
      "cell_type": "markdown",
      "metadata": {},
      "source": [
        "I will not compute the similarity scores using cosine similarity with respect to the tf-idf scores. I will store these scores in a dictionary named as similarity_scores where each key is the document_id (row of the dataframe) and value is the cosine similarity of the document and query"
      ]
    },
    {
      "cell_type": "code",
      "execution_count": 28,
      "metadata": {},
      "outputs": [],
      "source": [
        "similarity_scores = {}\n",
        "for document_i in intersection_list:\n",
        "    document_vector = df.at[document_i, \"description_clean\"] # getting the document vector at the row of interest\n",
        "    # calculated the tf_idf of the document vector. It will result in words as keys and values as tf-idf scores\n",
        "    document_tfidf = calculate_document_tfidf(document_vector, word_and_appearances, df) \n",
        "    # Compute cosine similarity\n",
        "    dot_product = 0\n",
        "    for word in normalized_query:\n",
        "        if word in document_tfidf:\n",
        "# computing the dot product of only the query's tfidf score and the tfidf score of that word in the document\n",
        "            dot_product += query_tfidf[word] * document_tfidf[word] \n",
        "\n",
        "    norm_doc_i = np.linalg.norm(list(document_tfidf.values())) # computing norm of the doc vector\n",
        "    norm_query = np.linalg.norm(list(query_tfidf.values()) )# computing norm of the query vector\n",
        "    \n",
        "    if norm_doc_i != 0 and norm_query != 0: # only the non zero results\n",
        "        cosine_similarity_doc_i_query = dot_product / (norm_doc_i * norm_query)\n",
        "        similarity_scores[document_i] = cosine_similarity_doc_i_query"
      ]
    },
    {
      "cell_type": "markdown",
      "metadata": {},
      "source": [
        "Using heap data structure to retrieve top 10 similarity scores:"
      ]
    },
    {
      "cell_type": "code",
      "execution_count": 29,
      "metadata": {},
      "outputs": [],
      "source": [
        "top_10_documents = heapq.nlargest(10, similarity_scores, key=similarity_scores.get)"
      ]
    },
    {
      "cell_type": "markdown",
      "metadata": {},
      "source": [
        "Finally, bringing the result of the query search."
      ]
    },
    {
      "cell_type": "code",
      "execution_count": 30,
      "metadata": {},
      "outputs": [
        {
          "data": {
            "text/html": [
              "<div>\n",
              "<style scoped>\n",
              "    .dataframe tbody tr th:only-of-type {\n",
              "        vertical-align: middle;\n",
              "    }\n",
              "\n",
              "    .dataframe tbody tr th {\n",
              "        vertical-align: top;\n",
              "    }\n",
              "\n",
              "    .dataframe thead th {\n",
              "        text-align: right;\n",
              "    }\n",
              "</style>\n",
              "<table border=\"1\" class=\"dataframe\">\n",
              "  <thead>\n",
              "    <tr style=\"text-align: right;\">\n",
              "      <th></th>\n",
              "      <th>courseName</th>\n",
              "      <th>universityName</th>\n",
              "      <th>description</th>\n",
              "      <th>url</th>\n",
              "      <th>Cosine_Similarity</th>\n",
              "    </tr>\n",
              "  </thead>\n",
              "  <tbody>\n",
              "    <tr>\n",
              "      <th>0</th>\n",
              "      <td>Advanced Healthcare Practice - MSc</td>\n",
              "      <td>Cardiff University</td>\n",
              "      <td>Why study this courseOur MSc Advanced Healthca...</td>\n",
              "      <td>www.findamasters.com/masters-degrees/course/ad...</td>\n",
              "      <td>0.354660</td>\n",
              "    </tr>\n",
              "    <tr>\n",
              "      <th>1</th>\n",
              "      <td>Advanced Clinical Practice MSc</td>\n",
              "      <td>University of Greenwich</td>\n",
              "      <td>Learn essential strategies and prepare for lea...</td>\n",
              "      <td>www.findamasters.com/masters-degrees/course/ad...</td>\n",
              "      <td>0.353597</td>\n",
              "    </tr>\n",
              "    <tr>\n",
              "      <th>2</th>\n",
              "      <td>Advanced Computing MSc</td>\n",
              "      <td>King’s College London</td>\n",
              "      <td>Our Advanced Computing MSc provides knowledge ...</td>\n",
              "      <td>www.findamasters.com/masters-degrees/course/ad...</td>\n",
              "      <td>0.347863</td>\n",
              "    </tr>\n",
              "    <tr>\n",
              "      <th>3</th>\n",
              "      <td>Advancing Practice - MSc</td>\n",
              "      <td>University of Northampton</td>\n",
              "      <td>Our MSc Advancing Practice awards support the ...</td>\n",
              "      <td>www.findamasters.com/masters-degrees/course/ad...</td>\n",
              "      <td>0.337683</td>\n",
              "    </tr>\n",
              "    <tr>\n",
              "      <th>4</th>\n",
              "      <td>Advanced Clinical Practice - MSc</td>\n",
              "      <td>Canterbury Christ Church University</td>\n",
              "      <td>Gain the knowledge and skills needed to become...</td>\n",
              "      <td>www.findamasters.com/masters-degrees/course/ad...</td>\n",
              "      <td>0.291885</td>\n",
              "    </tr>\n",
              "    <tr>\n",
              "      <th>5</th>\n",
              "      <td>Advanced Mechanical Engineering - MSc (Eng)</td>\n",
              "      <td>University of Leeds</td>\n",
              "      <td>This course offers a broad range of advanced s...</td>\n",
              "      <td>www.findamasters.com/masters-degrees/course/ad...</td>\n",
              "      <td>0.290262</td>\n",
              "    </tr>\n",
              "    <tr>\n",
              "      <th>6</th>\n",
              "      <td>Advanced Professional Practice (MSc)</td>\n",
              "      <td>University of Gloucestershire</td>\n",
              "      <td>Our lecturers are research active experts who ...</td>\n",
              "      <td>www.findamasters.com/masters-degrees/course/ad...</td>\n",
              "      <td>0.281497</td>\n",
              "    </tr>\n",
              "    <tr>\n",
              "      <th>7</th>\n",
              "      <td>Advanced Clinical Practice - MSc</td>\n",
              "      <td>University of Northampton</td>\n",
              "      <td>Our MSc Advanced Clinical Practice course aims...</td>\n",
              "      <td>www.findamasters.com/masters-degrees/course/ad...</td>\n",
              "      <td>0.280487</td>\n",
              "    </tr>\n",
              "    <tr>\n",
              "      <th>8</th>\n",
              "      <td>Advanced Biomedical Engineering - MSc</td>\n",
              "      <td>University of Bradford</td>\n",
              "      <td>Biomedical engineering is a fast evolving inte...</td>\n",
              "      <td>www.findamasters.com/masters-degrees/course/ad...</td>\n",
              "      <td>0.280119</td>\n",
              "    </tr>\n",
              "    <tr>\n",
              "      <th>9</th>\n",
              "      <td>Advanced Practice in Healthcare - MSc/PGDip/PG...</td>\n",
              "      <td>University of Birmingham</td>\n",
              "      <td>The MSc Advanced Practice in Healthcare is aim...</td>\n",
              "      <td>www.findamasters.com/masters-degrees/course/ad...</td>\n",
              "      <td>0.275154</td>\n",
              "    </tr>\n",
              "  </tbody>\n",
              "</table>\n",
              "</div>"
            ],
            "text/plain": [
              "                                          courseName  \\\n",
              "0                 Advanced Healthcare Practice - MSc   \n",
              "1                     Advanced Clinical Practice MSc   \n",
              "2                             Advanced Computing MSc   \n",
              "3                           Advancing Practice - MSc   \n",
              "4                   Advanced Clinical Practice - MSc   \n",
              "5        Advanced Mechanical Engineering - MSc (Eng)   \n",
              "6               Advanced Professional Practice (MSc)   \n",
              "7                   Advanced Clinical Practice - MSc   \n",
              "8              Advanced Biomedical Engineering - MSc   \n",
              "9  Advanced Practice in Healthcare - MSc/PGDip/PG...   \n",
              "\n",
              "                        universityName  \\\n",
              "0                   Cardiff University   \n",
              "1              University of Greenwich   \n",
              "2                King’s College London   \n",
              "3            University of Northampton   \n",
              "4  Canterbury Christ Church University   \n",
              "5                  University of Leeds   \n",
              "6        University of Gloucestershire   \n",
              "7            University of Northampton   \n",
              "8               University of Bradford   \n",
              "9             University of Birmingham   \n",
              "\n",
              "                                         description  \\\n",
              "0  Why study this courseOur MSc Advanced Healthca...   \n",
              "1  Learn essential strategies and prepare for lea...   \n",
              "2  Our Advanced Computing MSc provides knowledge ...   \n",
              "3  Our MSc Advancing Practice awards support the ...   \n",
              "4  Gain the knowledge and skills needed to become...   \n",
              "5  This course offers a broad range of advanced s...   \n",
              "6  Our lecturers are research active experts who ...   \n",
              "7  Our MSc Advanced Clinical Practice course aims...   \n",
              "8  Biomedical engineering is a fast evolving inte...   \n",
              "9  The MSc Advanced Practice in Healthcare is aim...   \n",
              "\n",
              "                                                 url  Cosine_Similarity  \n",
              "0  www.findamasters.com/masters-degrees/course/ad...           0.354660  \n",
              "1  www.findamasters.com/masters-degrees/course/ad...           0.353597  \n",
              "2  www.findamasters.com/masters-degrees/course/ad...           0.347863  \n",
              "3  www.findamasters.com/masters-degrees/course/ad...           0.337683  \n",
              "4  www.findamasters.com/masters-degrees/course/ad...           0.291885  \n",
              "5  www.findamasters.com/masters-degrees/course/ad...           0.290262  \n",
              "6  www.findamasters.com/masters-degrees/course/ad...           0.281497  \n",
              "7  www.findamasters.com/masters-degrees/course/ad...           0.280487  \n",
              "8  www.findamasters.com/masters-degrees/course/ad...           0.280119  \n",
              "9  www.findamasters.com/masters-degrees/course/ad...           0.275154  "
            ]
          },
          "execution_count": 30,
          "metadata": {},
          "output_type": "execute_result"
        }
      ],
      "source": [
        "results = return_results(top_10_documents, similarity_scores, df)\n",
        "results"
      ]
    },
    {
      "cell_type": "markdown",
      "metadata": {},
      "source": []
    }
  ],
  "metadata": {
    "colab": {
      "provenance": []
    },
    "kernelspec": {
      "display_name": "Python 3",
      "name": "python3"
    },
    "language_info": {
      "codemirror_mode": {
        "name": "ipython",
        "version": 3
      },
      "file_extension": ".py",
      "mimetype": "text/x-python",
      "name": "python",
      "nbconvert_exporter": "python",
      "pygments_lexer": "ipython3",
      "version": "3.9.17"
    }
  },
  "nbformat": 4,
  "nbformat_minor": 0
}
